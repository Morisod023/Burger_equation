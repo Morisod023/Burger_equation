{
 "cells": [
  {
   "cell_type": "markdown",
   "metadata": {
    "slideshow": {
     "slide_type": "slide"
    }
   },
   "source": [
    "# Introduction to Continuum Mechanics : The 1D Burger's equation "
   ]
  },
  {
   "cell_type": "code",
   "execution_count": 16,
   "metadata": {
    "slideshow": {
     "slide_type": "notes"
    }
   },
   "outputs": [
    {
     "data": {
      "text/html": [
       "<script>\n",
       "code_show=false; \n",
       "function code_toggle() {\n",
       " if (code_show){\n",
       " $('div.input').hide();\n",
       " } else {\n",
       " $('div.input').show();\n",
       " }\n",
       " code_show = !code_show\n",
       "} \n",
       "$( document ).ready(code_toggle);\n",
       "</script>\n",
       "The code is by default hidden for easier reading.\n",
       "To toggle on/off the raw code, click <a href=\"javascript:code_toggle()\">here</a>. If a figure seems to have a problem (not interactive), try to actualize it, by clicking on it and then pressing shift+enter"
      ],
      "text/plain": [
       "<IPython.core.display.HTML object>"
      ]
     },
     "execution_count": 16,
     "metadata": {},
     "output_type": "execute_result"
    }
   ],
   "source": [
    "from IPython.display import HTML\n",
    "HTML('''<script>\n",
    "code_show=false; \n",
    "function code_toggle() {\n",
    " if (code_show){\n",
    " $('div.input').hide();\n",
    " } else {\n",
    " $('div.input').show();\n",
    " }\n",
    " code_show = !code_show\n",
    "} \n",
    "$( document ).ready(code_toggle);\n",
    "</script>\n",
    "The code is by default hidden for easier reading.\n",
    "To toggle on/off the raw code, click <a href=\"javascript:code_toggle()\">here</a>. If a figure seems to have a problem (not interactive), try to actualize it, by clicking on it and then pressing shift+enter''')"
   ]
  },
  {
   "cell_type": "markdown",
   "metadata": {
    "slideshow": {
     "slide_type": "notes"
    }
   },
   "source": [
    "Before we start, we import some preliminary libraries. We will also import (below) the accompanying `Burger.py` file, which contains the actual solver and plotting routine."
   ]
  },
  {
   "cell_type": "markdown",
   "metadata": {
    "slideshow": {
     "slide_type": "-"
    }
   },
   "source": [
    "As an introduction, here is a video to watch, and please look at the formation of the traffic jam."
   ]
  },
  {
   "cell_type": "code",
   "execution_count": 17,
   "metadata": {
    "slideshow": {
     "slide_type": "subslide"
    }
   },
   "outputs": [
    {
     "data": {
      "image/jpeg": "[encoded data removed]",
      "text/html": [
       "\n",
       "        <iframe\n",
       "            width=\"720\"\n",
       "            height=\"480\"\n",
       "            src=\"https://www.youtube.com/embed/Suugn-p5C1M\"\n",
       "            frameborder=\"0\"\n",
       "            allowfullscreen\n",
       "        ></iframe>\n",
       "        "
      ],
      "text/plain": [
       "<IPython.lib.display.YouTubeVideo at 0x1ebc31abb00>"
      ]
     },
     "execution_count": 17,
     "metadata": {},
     "output_type": "execute_result"
    }
   ],
   "source": [
    "from IPython.lib.display import YouTubeVideo\n",
    "YouTubeVideo('Suugn-p5C1M', width=720, height=480)\n"
   ]
  },
  {
   "cell_type": "markdown",
   "metadata": {
    "slideshow": {
     "slide_type": "slide"
    }
   },
   "source": [
    "In this video, one can notice that, since the cars are relatively close to each other, a simple perturbation will propagate through the traffic. \n",
    "\n",
    "One can also clearly see it in this animation (source : Martin Treiber) , where this situation is simulated: http://www.traffic-simulation.de/ring.html.\n",
    "Try to find a situation where it seems to be stable, but after some time, some perturbation propagates.\n",
    "\n",
    "\n",
    "What if we could represent this in a mathematical model ? \n",
    "\n",
    "We will see that we can use the continuum mechanics theory to mathematically modelize the traffic (Source : Wikipedia \"https://en.wikipedia.org/wiki/Continuum_mechanics\") :\n",
    "\n",
    "Consider car traffic on a highway, with just one lane for simplicity. Somewhat surprisingly, and in a tribute to its effectiveness, continuum mechanics effectively models the movement of cars via a partial differential equation (PDE) for the density of cars. The familiarity of this situation empowers us to understand a little of the continuum-discrete dichotomy underlying continuum modelling in general."
   ]
  },
  {
   "cell_type": "markdown",
   "metadata": {
    "slideshow": {
     "slide_type": "subslide"
    }
   },
   "source": [
    "To start modelling define that: $\\textit{x}$ measure distance (in km) along the highway; $\\textit{t}$ is time (in minutes); $\\rho$ (x,t)  is the density of cars on the highway (in cars/km in the lane); and $\\textit{u}$(x,t) is the flow velocity (average velocity) of those cars 'at' position $\\textit{x}$.\n",
    "\n",
    "\n",
    "Cars do not appear and disappear. Consider any group of cars: from the particular car at the back of the group located at $\\textit{x}$=$\\textit{a}$(t) to the particular car at the front located at $\\textit{x}$=$\\textit{b}$(t). The total number of cars in this group \\begin{equation*} N= \\int_{a(t)}^{b(t)} \\rho(x,t)dx \\end{equation*}\n",
    "Since cars are conserved (if there is overtaking, then the \"car at the front \\ back\" may become a different car) \\begin{equation}\\frac{dN}{dt}=0.\\end{equation}\n"
   ]
  },
  {
   "cell_type": "markdown",
   "metadata": {
    "slideshow": {
     "slide_type": "subslide"
    }
   },
   "source": [
    "But via the Leibniz integral rule we have:\n",
    "\\begin{align}\n",
    "\\frac{dN}{dt}&=\\frac{d}{dt}\\int_{a(t)}^{b(t)}\\rho(x,t)dx =\\int_a^b\\frac{\\partial\\rho}{\\partial t}dx+\\rho(b,t)\\frac{db}{dt}-\\rho(a,t)\\frac{da}{dt}\\\\\n",
    "&=\\int_a^b\\frac{\\partial\\rho}{\\partial t}dx+\\rho(b,t)u(b,t)-\\rho(a,t)u(a,t)\\\\\n",
    "&=\\int_a^b\\big[\\frac{\\partial \\rho}{\\partial t}+\\frac{\\partial}{\\partial x}(\\rho u)\\big]dx\n",
    "\\end{align}\n",
    "This integral being zero holds for all groups, that is, for all intervals [a,b]. The only way an integral can be zero for all intervals is if the integrand is zero for all x. Consequently, conservation derives the first order nonlinear conservation PDE:\n",
    "$\\frac{\\partial \\rho}{\\partial t}+\\frac{\\partial}{\\partial x}(\\rho u)=0$"
   ]
  },
  {
   "cell_type": "markdown",
   "metadata": {
    "slideshow": {
     "slide_type": "subslide"
    }
   },
   "source": [
    "The previous PDE is one equation with two unknowns, so another equation is needed to form a well-posed problem. Such an extra equation is typically needed in continuum mechanics and typically comes from experiments. For car traffic it is well established that cars typically travel at a speed depending upon density, u=V(\\rho) for some experimentally determined function V that is a decreasing function of density. For example, experiments in the Lincoln Tunnel found that a good fit (except at low density) is obtained by \\begin{equation} u=V(\\rho )=27.5\\ln(\\frac{142}{\\rho} )\\end{equation}( km/hr for density in cars/km). See the figure below for a representation of the experimental relationship, between the density and the velocity\n",
    "Thus the basic continuum model for car traffic is the PDE\n",
    "\\begin{equation}\n",
    "\\frac{\\partial \\rho}{\\partial t}+\\frac{\\partial}{\\partial x}[\\rho V(\\rho)]=0\n",
    "\\end{equation}\n",
    "for the car density $\\rho(x,t)$ on the highway.\n",
    "We will see the relation between a traffic jam, and the resolution of the 1-D Burger's equation. Indeed, this equation (viscous or inviscid) is heavily used in the modelisation of the dynamics of the gases (to represent the displacement of a shock wave), or in the road traffic, to represent the evolution of a traffic jam). "
   ]
  },
  {
   "cell_type": "code",
   "execution_count": 18,
   "metadata": {
    "slideshow": {
     "slide_type": "subslide"
    }
   },
   "outputs": [
    {
     "data": {
      "text/html": [
       "<script>\n",
       "code_show=false; \n",
       "function code_toggle() {\n",
       " if (code_show){\n",
       " $('div.input').hide();\n",
       " } else {\n",
       " $('div.input').show();\n",
       " }\n",
       " code_show = !code_show\n",
       "} \n",
       "$( document ).ready(code_toggle);\n",
       "</script>\n",
       "The code is by default hidden for easier reading.\n",
       "To toggle on/off the raw code, click <a href=\"javascript:code_toggle()\">here</a>. If a figure seems to have a problem (not interactive), try to actualize it, by clicking on it and then pressing shift+enter"
      ],
      "text/plain": [
       "<IPython.core.display.HTML object>"
      ]
     },
     "execution_count": 18,
     "metadata": {},
     "output_type": "execute_result"
    }
   ],
   "source": [
    "from IPython.display import HTML\n",
    "HTML('''<script>\n",
    "code_show=false; \n",
    "function code_toggle() {\n",
    " if (code_show){\n",
    " $('div.input').hide();\n",
    " } else {\n",
    " $('div.input').show();\n",
    " }\n",
    " code_show = !code_show\n",
    "} \n",
    "$( document ).ready(code_toggle);\n",
    "</script>\n",
    "The code is by default hidden for easier reading.\n",
    "To toggle on/off the raw code, click <a href=\"javascript:code_toggle()\">here</a>. If a figure seems to have a problem (not interactive), try to actualize it, by clicking on it and then pressing shift+enter''')"
   ]
  },
  {
   "cell_type": "code",
   "execution_count": 19,
   "metadata": {
    "slideshow": {
     "slide_type": "-"
    }
   },
   "outputs": [
    {
     "data": {
      "image/png": "[encoded data removed]",
      "text/plain": [
       "<Figure size 1440x720 with 1 Axes>"
      ]
     },
     "metadata": {
      "needs_background": "light"
     },
     "output_type": "display_data"
    }
   ],
   "source": [
    "from Burger import plot_log\n",
    "plot_log()"
   ]
  },
  {
   "cell_type": "markdown",
   "metadata": {
    "slideshow": {
     "slide_type": "slide"
    }
   },
   "source": [
    "# The Burger Equation"
   ]
  },
  {
   "cell_type": "markdown",
   "metadata": {
    "slideshow": {
     "slide_type": "-"
    }
   },
   "source": [
    "So far, we have \n",
    "\\begin{equation}\n",
    "\\frac{\\partial \\rho}{\\partial t}+\\frac{\\partial}{\\partial x}[\\rho V(\\rho)]=0\n",
    "\\end{equation}\n",
    "As we can notice, this equation is relatively similar to the following equation, which corresponds to the viscous 1-D Burger differential equations:\n",
    "$$\n",
    "\\frac{\\partial{u}}{{\\partial{t}}}+u*\\frac{\\partial{u}}{\\partial{x}}=\\nu*\\frac{\\partial^2{u}}{\\partial^2{x}}\n",
    "$$\n",
    "Since we're observing the inviscid case, we will set $\\nu$ to 0, and we end up with the equation :\n",
    "$$\n",
    "\\frac{\\partial{u}}{{\\partial{t}}}+u*\\frac{\\partial{u}}{\\partial{x}}=0\n",
    "$$\n",
    "\n",
    "In fact, the inviscid 1D burger equation corresponds is a very good modelisation of the density of cars, in the case where $V(\\rho)=\\frac{\\rho}{2}$, offently used to described the creation of a shock wave in a fluid.\n"
   ]
  },
  {
   "cell_type": "markdown",
   "metadata": {
    "slideshow": {
     "slide_type": "slide"
    }
   },
   "source": [
    "## Question 1 : "
   ]
  },
  {
   "cell_type": "markdown",
   "metadata": {
    "slideshow": {
     "slide_type": "subslide"
    }
   },
   "source": [
    "This equation corresponds to the inviscid 1-D Burger differential equation.\n",
    "\n",
    "In the following multiple choices, which are the correct answers?\n",
    "\n",
    "a)The inviscid Burger equation is a first order non-linear equation\n",
    "\n",
    "b)The viscous Burger equation is a second order linear equation\n",
    "\n",
    "c)The inviscid Burger equation is a first order linear equation\n",
    "\n",
    "d)The viscous Burger equation is a first order non-linear equation"
   ]
  },
  {
   "cell_type": "code",
   "execution_count": 3,
   "metadata": {},
   "outputs": [
    {
     "data": {
      "text/html": [
       "\n",
       "    <div class=\"bk-root\">\n",
       "        <a href=\"https://bokeh.pydata.org\" target=\"_blank\" class=\"bk-logo bk-logo-small bk-logo-notebook\"></a>\n",
       "        <span id=\"1002\">Loading BokehJS ...</span>\n",
       "    </div>"
      ]
     },
     "metadata": {},
     "output_type": "display_data"
    },
    {
     "data": {
      "application/javascript": [
       "\n",
       "(function(root) {\n",
       "  function now() {\n",
       "    return new Date();\n",
       "  }\n",
       "\n",
       "  var force = true;\n",
       "\n",
       "  if (typeof (root._bokeh_onload_callbacks) === \"undefined\" || force === true) {\n",
       "    root._bokeh_onload_callbacks = [];\n",
       "    root._bokeh_is_loading = undefined;\n",
       "  }\n",
       "\n",
       "  var JS_MIME_TYPE = 'application/javascript';\n",
       "  var HTML_MIME_TYPE = 'text/html';\n",
       "  var EXEC_MIME_TYPE = 'application/vnd.bokehjs_exec.v0+json';\n",
       "  var CLASS_NAME = 'output_bokeh rendered_html';\n",
       "\n",
       "  /**\n",
       "   * Render data to the DOM node\n",
       "   */\n",
       "  function render(props, node) {\n",
       "    var script = document.createElement(\"script\");\n",
       "    node.appendChild(script);\n",
       "  }\n",
       "\n",
       "  /**\n",
       "   * Handle when an output is cleared or removed\n",
       "   */\n",
       "  function handleClearOutput(event, handle) {\n",
       "    var cell = handle.cell;\n",
       "\n",
       "    var id = cell.output_area._bokeh_element_id;\n",
       "    var server_id = cell.output_area._bokeh_server_id;\n",
       "    // Clean up Bokeh references\n",
       "    if (id != null && id in Bokeh.index) {\n",
       "      Bokeh.index[id].model.document.clear();\n",
       "      delete Bokeh.index[id];\n",
       "    }\n",
       "\n",
       "    if (server_id !== undefined) {\n",
       "      // Clean up Bokeh references\n",
       "      var cmd = \"from bokeh.io.state import curstate; print(curstate().uuid_to_server['\" + server_id + \"'].get_sessions()[0].document.roots[0]._id)\";\n",
       "      cell.notebook.kernel.execute(cmd, {\n",
       "        iopub: {\n",
       "          output: function(msg) {\n",
       "            var id = msg.content.text.trim();\n",
       "            if (id in Bokeh.index) {\n",
       "              Bokeh.index[id].model.document.clear();\n",
       "              delete Bokeh.index[id];\n",
       "            }\n",
       "          }\n",
       "        }\n",
       "      });\n",
       "      // Destroy server and session\n",
       "      var cmd = \"import bokeh.io.notebook as ion; ion.destroy_server('\" + server_id + \"')\";\n",
       "      cell.notebook.kernel.execute(cmd);\n",
       "    }\n",
       "  }\n",
       "\n",
       "  /**\n",
       "   * Handle when a new output is added\n",
       "   */\n",
       "  function handleAddOutput(event, handle) {\n",
       "    var output_area = handle.output_area;\n",
       "    var output = handle.output;\n",
       "\n",
       "    // limit handleAddOutput to display_data with EXEC_MIME_TYPE content only\n",
       "    if ((output.output_type != \"display_data\") || (!output.data.hasOwnProperty(EXEC_MIME_TYPE))) {\n",
       "      return\n",
       "    }\n",
       "\n",
       "    var toinsert = output_area.element.find(\".\" + CLASS_NAME.split(' ')[0]);\n",
       "\n",
       "    if (output.metadata[EXEC_MIME_TYPE][\"id\"] !== undefined) {\n",
       "      toinsert[toinsert.length - 1].firstChild.textContent = output.data[JS_MIME_TYPE];\n",
       "      // store reference to embed id on output_area\n",
       "      output_area._bokeh_element_id = output.metadata[EXEC_MIME_TYPE][\"id\"];\n",
       "    }\n",
       "    if (output.metadata[EXEC_MIME_TYPE][\"server_id\"] !== undefined) {\n",
       "      var bk_div = document.createElement(\"div\");\n",
       "      bk_div.innerHTML = output.data[HTML_MIME_TYPE];\n",
       "      var script_attrs = bk_div.children[0].attributes;\n",
       "      for (var i = 0; i < script_attrs.length; i++) {\n",
       "        toinsert[toinsert.length - 1].firstChild.setAttribute(script_attrs[i].name, script_attrs[i].value);\n",
       "      }\n",
       "      // store reference to server id on output_area\n",
       "      output_area._bokeh_server_id = output.metadata[EXEC_MIME_TYPE][\"server_id\"];\n",
       "    }\n",
       "  }\n",
       "\n",
       "  function register_renderer(events, OutputArea) {\n",
       "\n",
       "    function append_mime(data, metadata, element) {\n",
       "      // create a DOM node to render to\n",
       "      var toinsert = this.create_output_subarea(\n",
       "        metadata,\n",
       "        CLASS_NAME,\n",
       "        EXEC_MIME_TYPE\n",
       "      );\n",
       "      this.keyboard_manager.register_events(toinsert);\n",
       "      // Render to node\n",
       "      var props = {data: data, metadata: metadata[EXEC_MIME_TYPE]};\n",
       "      render(props, toinsert[toinsert.length - 1]);\n",
       "      element.append(toinsert);\n",
       "      return toinsert\n",
       "    }\n",
       "\n",
       "    /* Handle when an output is cleared or removed */\n",
       "    events.on('clear_output.CodeCell', handleClearOutput);\n",
       "    events.on('delete.Cell', handleClearOutput);\n",
       "\n",
       "    /* Handle when a new output is added */\n",
       "    events.on('output_added.OutputArea', handleAddOutput);\n",
       "\n",
       "    /**\n",
       "     * Register the mime type and append_mime function with output_area\n",
       "     */\n",
       "    OutputArea.prototype.register_mime_type(EXEC_MIME_TYPE, append_mime, {\n",
       "      /* Is output safe? */\n",
       "      safe: true,\n",
       "      /* Index of renderer in `output_area.display_order` */\n",
       "      index: 0\n",
       "    });\n",
       "  }\n",
       "\n",
       "  // register the mime type if in Jupyter Notebook environment and previously unregistered\n",
       "  if (root.Jupyter !== undefined) {\n",
       "    var events = require('base/js/events');\n",
       "    var OutputArea = require('notebook/js/outputarea').OutputArea;\n",
       "\n",
       "    if (OutputArea.prototype.mime_types().indexOf(EXEC_MIME_TYPE) == -1) {\n",
       "      register_renderer(events, OutputArea);\n",
       "    }\n",
       "  }\n",
       "\n",
       "  \n",
       "  if (typeof (root._bokeh_timeout) === \"undefined\" || force === true) {\n",
       "    root._bokeh_timeout = Date.now() + 5000;\n",
       "    root._bokeh_failed_load = false;\n",
       "  }\n",
       "\n",
       "  var NB_LOAD_WARNING = {'data': {'text/html':\n",
       "     \"<div style='background-color: #fdd'>\\n\"+\n",
       "     \"<p>\\n\"+\n",
       "     \"BokehJS does not appear to have successfully loaded. If loading BokehJS from CDN, this \\n\"+\n",
       "     \"may be due to a slow or bad network connection. Possible fixes:\\n\"+\n",
       "     \"</p>\\n\"+\n",
       "     \"<ul>\\n\"+\n",
       "     \"<li>re-rerun `output_notebook()` to attempt to load from CDN again, or</li>\\n\"+\n",
       "     \"<li>use INLINE resources instead, as so:</li>\\n\"+\n",
       "     \"</ul>\\n\"+\n",
       "     \"<code>\\n\"+\n",
       "     \"from bokeh.resources import INLINE\\n\"+\n",
       "     \"output_notebook(resources=INLINE)\\n\"+\n",
       "     \"</code>\\n\"+\n",
       "     \"</div>\"}};\n",
       "\n",
       "  function display_loaded() {\n",
       "    var el = document.getElementById(\"1002\");\n",
       "    if (el != null) {\n",
       "      el.textContent = \"BokehJS is loading...\";\n",
       "    }\n",
       "    if (root.Bokeh !== undefined) {\n",
       "      if (el != null) {\n",
       "        el.textContent = \"BokehJS \" + root.Bokeh.version + \" successfully loaded.\";\n",
       "      }\n",
       "    } else if (Date.now() < root._bokeh_timeout) {\n",
       "      setTimeout(display_loaded, 100)\n",
       "    }\n",
       "  }\n",
       "\n",
       "\n",
       "  function run_callbacks() {\n",
       "    try {\n",
       "      root._bokeh_onload_callbacks.forEach(function(callback) { callback() });\n",
       "    }\n",
       "    finally {\n",
       "      delete root._bokeh_onload_callbacks\n",
       "    }\n",
       "    console.info(\"Bokeh: all callbacks have finished\");\n",
       "  }\n",
       "\n",
       "  function load_libs(js_urls, callback) {\n",
       "    root._bokeh_onload_callbacks.push(callback);\n",
       "    if (root._bokeh_is_loading > 0) {\n",
       "      console.log(\"Bokeh: BokehJS is being loaded, scheduling callback at\", now());\n",
       "      return null;\n",
       "    }\n",
       "    if (js_urls == null || js_urls.length === 0) {\n",
       "      run_callbacks();\n",
       "      return null;\n",
       "    }\n",
       "    console.log(\"Bokeh: BokehJS not loaded, scheduling load and callback at\", now());\n",
       "    root._bokeh_is_loading = js_urls.length;\n",
       "    for (var i = 0; i < js_urls.length; i++) {\n",
       "      var url = js_urls[i];\n",
       "      var s = document.createElement('script');\n",
       "      s.src = url;\n",
       "      s.async = false;\n",
       "      s.onreadystatechange = s.onload = function() {\n",
       "        root._bokeh_is_loading--;\n",
       "        if (root._bokeh_is_loading === 0) {\n",
       "          console.log(\"Bokeh: all BokehJS libraries loaded\");\n",
       "          run_callbacks()\n",
       "        }\n",
       "      };\n",
       "      s.onerror = function() {\n",
       "        console.warn(\"failed to load library \" + url);\n",
       "      };\n",
       "      console.log(\"Bokeh: injecting script tag for BokehJS library: \", url);\n",
       "      document.getElementsByTagName(\"head\")[0].appendChild(s);\n",
       "    }\n",
       "  };var element = document.getElementById(\"1002\");\n",
       "  if (element == null) {\n",
       "    console.log(\"Bokeh: ERROR: autoload.js configured with elementid '1002' but no matching script tag was found. \")\n",
       "    return false;\n",
       "  }\n",
       "\n",
       "  var js_urls = [\"https://cdn.pydata.org/bokeh/release/bokeh-1.0.2.min.js\", \"https://cdn.pydata.org/bokeh/release/bokeh-widgets-1.0.2.min.js\", \"https://cdn.pydata.org/bokeh/release/bokeh-tables-1.0.2.min.js\", \"https://cdn.pydata.org/bokeh/release/bokeh-gl-1.0.2.min.js\"];\n",
       "\n",
       "  var inline_js = [\n",
       "    function(Bokeh) {\n",
       "      Bokeh.set_log_level(\"info\");\n",
       "    },\n",
       "    \n",
       "    function(Bokeh) {\n",
       "      \n",
       "    },\n",
       "    function(Bokeh) {\n",
       "      console.log(\"Bokeh: injecting CSS: https://cdn.pydata.org/bokeh/release/bokeh-1.0.2.min.css\");\n",
       "      Bokeh.embed.inject_css(\"https://cdn.pydata.org/bokeh/release/bokeh-1.0.2.min.css\");\n",
       "      console.log(\"Bokeh: injecting CSS: https://cdn.pydata.org/bokeh/release/bokeh-widgets-1.0.2.min.css\");\n",
       "      Bokeh.embed.inject_css(\"https://cdn.pydata.org/bokeh/release/bokeh-widgets-1.0.2.min.css\");\n",
       "      console.log(\"Bokeh: injecting CSS: https://cdn.pydata.org/bokeh/release/bokeh-tables-1.0.2.min.css\");\n",
       "      Bokeh.embed.inject_css(\"https://cdn.pydata.org/bokeh/release/bokeh-tables-1.0.2.min.css\");\n",
       "    }\n",
       "  ];\n",
       "\n",
       "  function run_inline_js() {\n",
       "    \n",
       "    if ((root.Bokeh !== undefined) || (force === true)) {\n",
       "      for (var i = 0; i < inline_js.length; i++) {\n",
       "        inline_js[i].call(root, root.Bokeh);\n",
       "      }if (force === true) {\n",
       "        display_loaded();\n",
       "      }} else if (Date.now() < root._bokeh_timeout) {\n",
       "      setTimeout(run_inline_js, 100);\n",
       "    } else if (!root._bokeh_failed_load) {\n",
       "      console.log(\"Bokeh: BokehJS failed to load within specified timeout.\");\n",
       "      root._bokeh_failed_load = true;\n",
       "    } else if (force !== true) {\n",
       "      var cell = $(document.getElementById(\"1002\")).parents('.cell').data().cell;\n",
       "      cell.output_area.append_execute_result(NB_LOAD_WARNING)\n",
       "    }\n",
       "\n",
       "  }\n",
       "\n",
       "  if (root._bokeh_is_loading === 0) {\n",
       "    console.log(\"Bokeh: BokehJS loaded, going straight to plotting\");\n",
       "    run_inline_js();\n",
       "  } else {\n",
       "    load_libs(js_urls, function() {\n",
       "      console.log(\"Bokeh: BokehJS plotting callback run at\", now());\n",
       "      run_inline_js();\n",
       "    });\n",
       "  }\n",
       "}(window));"
      ],
      "application/vnd.bokehjs_load.v0+json": "\n(function(root) {\n  function now() {\n    return new Date();\n  }\n\n  var force = true;\n\n  if (typeof (root._bokeh_onload_callbacks) === \"undefined\" || force === true) {\n    root._bokeh_onload_callbacks = [];\n    root._bokeh_is_loading = undefined;\n  }\n\n  \n\n  \n  if (typeof (root._bokeh_timeout) === \"undefined\" || force === true) {\n    root._bokeh_timeout = Date.now() + 5000;\n    root._bokeh_failed_load = false;\n  }\n\n  var NB_LOAD_WARNING = {'data': {'text/html':\n     \"<div style='background-color: #fdd'>\\n\"+\n     \"<p>\\n\"+\n     \"BokehJS does not appear to have successfully loaded. If loading BokehJS from CDN, this \\n\"+\n     \"may be due to a slow or bad network connection. Possible fixes:\\n\"+\n     \"</p>\\n\"+\n     \"<ul>\\n\"+\n     \"<li>re-rerun `output_notebook()` to attempt to load from CDN again, or</li>\\n\"+\n     \"<li>use INLINE resources instead, as so:</li>\\n\"+\n     \"</ul>\\n\"+\n     \"<code>\\n\"+\n     \"from bokeh.resources import INLINE\\n\"+\n     \"output_notebook(resources=INLINE)\\n\"+\n     \"</code>\\n\"+\n     \"</div>\"}};\n\n  function display_loaded() {\n    var el = document.getElementById(\"1002\");\n    if (el != null) {\n      el.textContent = \"BokehJS is loading...\";\n    }\n    if (root.Bokeh !== undefined) {\n      if (el != null) {\n        el.textContent = \"BokehJS \" + root.Bokeh.version + \" successfully loaded.\";\n      }\n    } else if (Date.now() < root._bokeh_timeout) {\n      setTimeout(display_loaded, 100)\n    }\n  }\n\n\n  function run_callbacks() {\n    try {\n      root._bokeh_onload_callbacks.forEach(function(callback) { callback() });\n    }\n    finally {\n      delete root._bokeh_onload_callbacks\n    }\n    console.info(\"Bokeh: all callbacks have finished\");\n  }\n\n  function load_libs(js_urls, callback) {\n    root._bokeh_onload_callbacks.push(callback);\n    if (root._bokeh_is_loading > 0) {\n      console.log(\"Bokeh: BokehJS is being loaded, scheduling callback at\", now());\n      return null;\n    }\n    if (js_urls == null || js_urls.length === 0) {\n      run_callbacks();\n      return null;\n    }\n    console.log(\"Bokeh: BokehJS not loaded, scheduling load and callback at\", now());\n    root._bokeh_is_loading = js_urls.length;\n    for (var i = 0; i < js_urls.length; i++) {\n      var url = js_urls[i];\n      var s = document.createElement('script');\n      s.src = url;\n      s.async = false;\n      s.onreadystatechange = s.onload = function() {\n        root._bokeh_is_loading--;\n        if (root._bokeh_is_loading === 0) {\n          console.log(\"Bokeh: all BokehJS libraries loaded\");\n          run_callbacks()\n        }\n      };\n      s.onerror = function() {\n        console.warn(\"failed to load library \" + url);\n      };\n      console.log(\"Bokeh: injecting script tag for BokehJS library: \", url);\n      document.getElementsByTagName(\"head\")[0].appendChild(s);\n    }\n  };var element = document.getElementById(\"1002\");\n  if (element == null) {\n    console.log(\"Bokeh: ERROR: autoload.js configured with elementid '1002' but no matching script tag was found. \")\n    return false;\n  }\n\n  var js_urls = [\"https://cdn.pydata.org/bokeh/release/bokeh-1.0.2.min.js\", \"https://cdn.pydata.org/bokeh/release/bokeh-widgets-1.0.2.min.js\", \"https://cdn.pydata.org/bokeh/release/bokeh-tables-1.0.2.min.js\", \"https://cdn.pydata.org/bokeh/release/bokeh-gl-1.0.2.min.js\"];\n\n  var inline_js = [\n    function(Bokeh) {\n      Bokeh.set_log_level(\"info\");\n    },\n    \n    function(Bokeh) {\n      \n    },\n    function(Bokeh) {\n      console.log(\"Bokeh: injecting CSS: https://cdn.pydata.org/bokeh/release/bokeh-1.0.2.min.css\");\n      Bokeh.embed.inject_css(\"https://cdn.pydata.org/bokeh/release/bokeh-1.0.2.min.css\");\n      console.log(\"Bokeh: injecting CSS: https://cdn.pydata.org/bokeh/release/bokeh-widgets-1.0.2.min.css\");\n      Bokeh.embed.inject_css(\"https://cdn.pydata.org/bokeh/release/bokeh-widgets-1.0.2.min.css\");\n      console.log(\"Bokeh: injecting CSS: https://cdn.pydata.org/bokeh/release/bokeh-tables-1.0.2.min.css\");\n      Bokeh.embed.inject_css(\"https://cdn.pydata.org/bokeh/release/bokeh-tables-1.0.2.min.css\");\n    }\n  ];\n\n  function run_inline_js() {\n    \n    if ((root.Bokeh !== undefined) || (force === true)) {\n      for (var i = 0; i < inline_js.length; i++) {\n        inline_js[i].call(root, root.Bokeh);\n      }if (force === true) {\n        display_loaded();\n      }} else if (Date.now() < root._bokeh_timeout) {\n      setTimeout(run_inline_js, 100);\n    } else if (!root._bokeh_failed_load) {\n      console.log(\"Bokeh: BokehJS failed to load within specified timeout.\");\n      root._bokeh_failed_load = true;\n    } else if (force !== true) {\n      var cell = $(document.getElementById(\"1002\")).parents('.cell').data().cell;\n      cell.output_area.append_execute_result(NB_LOAD_WARNING)\n    }\n\n  }\n\n  if (root._bokeh_is_loading === 0) {\n    console.log(\"Bokeh: BokehJS loaded, going straight to plotting\");\n    run_inline_js();\n  } else {\n    load_libs(js_urls, function() {\n      console.log(\"Bokeh: BokehJS plotting callback run at\", now());\n      run_inline_js();\n    });\n  }\n}(window));"
     },
     "metadata": {},
     "output_type": "display_data"
    }
   ],
   "source": [
    "from ipywidgets import interact\n",
    "import numpy as np\n",
    "from bokeh.io import push_notebook, show, output_notebook\n",
    "from bokeh.plotting import figure\n",
    "output_notebook()"
   ]
  },
  {
   "cell_type": "code",
   "execution_count": 21,
   "metadata": {
    "slideshow": {
     "slide_type": "slide"
    }
   },
   "outputs": [
    {
     "data": {
      "application/vnd.jupyter.widget-view+json": {
       "model_id": "378594dcab4a4c539b30407e839594ce",
       "version_major": 2,
       "version_minor": 0
      },
      "text/plain": [
       "interactive(children=(Dropdown(description='res1', options=('Choose an answer', 'a', 'b', 'c', 'd'), value='Ch…"
      ]
     },
     "metadata": {},
     "output_type": "display_data"
    }
   ],
   "source": [
    "from ipywidgets import interactive, fixed\n",
    "\"\"\"RESPONSE TO THE FIRST QUESTION\"\"\" \"\"\"\"Multiple question can be set, and then we count the result, instead of giving al lthe answer at once\"\"\"\n",
    "from  Question_Burger import Question_type1\n",
    "interactive(Question_type1, res1=['Choose an answer','a', 'b', 'c', 'd'], res2=['Choose an answer','a', 'b', 'c', 'd'], res3=['Choose an answer','a', 'b', 'c', 'd'], res4=['Choose an answer','a', 'b', 'c', 'd'], res5=['Choose an answer','a', 'b', 'c', 'd'], res6=['Choose an answer','a', 'b', 'c', 'd'], res7=['Choose an answer','a', 'b', 'c', 'd'], res8=['Choose an answer','a', 'b', 'c', 'd'])\n"
   ]
  },
  {
   "cell_type": "code",
   "execution_count": 22,
   "metadata": {
    "slideshow": {
     "slide_type": "slide"
    }
   },
   "outputs": [
    {
     "data": {
      "application/vnd.jupyter.widget-view+json": {
       "model_id": "cb272ff454bd405a823442150d3628de",
       "version_major": 2,
       "version_minor": 0
      },
      "text/plain": [
       "interactive(children=(Dropdown(description='res1', options=('Choose an answer', 'a', 'b', 'c', 'd'), value='Ch…"
      ]
     },
     "metadata": {},
     "output_type": "display_data"
    }
   ],
   "source": [
    "from ipywidgets import interactive, fixed\n",
    "from  Question_Burger import Question_type2\n",
    "interactive(Question_type2, res1=['Choose an answer','a', 'b', 'c', 'd'], res2=['Choose an answer','a', 'b', 'c', 'd'], res3=['Choose an answer','a', 'b', 'c', 'd'], res4=['Choose an answer','a', 'b', 'c', 'd'], res5=['Choose an answer','a', 'b', 'c', 'd'], res6=['Choose an answer','a', 'b', 'c', 'd'], res7=['Choose an answer','a', 'b', 'c', 'd'], res8=['Choose an answer','a', 'b', 'c', 'd'], Finished=False)\n"
   ]
  },
  {
   "cell_type": "markdown",
   "metadata": {
    "slideshow": {
     "slide_type": "skip"
    }
   },
   "source": [
    "Some things could be said about the discretization, and the way the calculation are made. This has for goal the understanding of the use of the discretization in non-linear equation.\n"
   ]
  },
  {
   "cell_type": "markdown",
   "metadata": {
    "slideshow": {
     "slide_type": "slide"
    }
   },
   "source": [
    "# Interactive figure"
   ]
  },
  {
   "cell_type": "code",
   "execution_count": 23,
   "metadata": {
    "slideshow": {
     "slide_type": "skip"
    }
   },
   "outputs": [
    {
     "data": {
      "text/html": [
       "<script>\n",
       "code_show=false; \n",
       "function code_toggle() {\n",
       " if (code_show){\n",
       " $('div.input').hide();\n",
       " } else {\n",
       " $('div.input').show();\n",
       " }\n",
       " code_show = !code_show\n",
       "} \n",
       "$( document ).ready(code_toggle);\n",
       "</script>\n",
       "The code is by default hidden for easier reading.\n",
       "To toggle on/off the raw code, click <a href=\"javascript:code_toggle()\">here</a>. If a figure seems to have a problem (not interactive), try to actualize it, by clicking on it and then pressing shift+enter"
      ],
      "text/plain": [
       "<IPython.core.display.HTML object>"
      ]
     },
     "execution_count": 23,
     "metadata": {},
     "output_type": "execute_result"
    }
   ],
   "source": [
    "from IPython.display import HTML\n",
    "HTML('''<script>\n",
    "code_show=false; \n",
    "function code_toggle() {\n",
    " if (code_show){\n",
    " $('div.input').hide();\n",
    " } else {\n",
    " $('div.input').show();\n",
    " }\n",
    " code_show = !code_show\n",
    "} \n",
    "$( document ).ready(code_toggle);\n",
    "</script>\n",
    "The code is by default hidden for easier reading.\n",
    "To toggle on/off the raw code, click <a href=\"javascript:code_toggle()\">here</a>. If a figure seems to have a problem (not interactive), try to actualize it, by clicking on it and then pressing shift+enter''')"
   ]
  },
  {
   "cell_type": "markdown",
   "metadata": {
    "slideshow": {
     "slide_type": "slide"
    }
   },
   "source": [
    "Below, an interactive figure can be used  manipuled using the sliders. Two different types of initial conditions can be chosen. The first one is a square wave,, the second one is a peak, the third one is a sinusoidal and the last one is a gaussian (centered around 1 and with a $ \\sigma$ of 0.1).\n",
    "\n",
    "t the time slider. By changing its value, one can observe the evolution of the figure through the time. Take also a look of the difference between the the high amplitude and the low amplitude initial condition."
   ]
  },
  {
   "cell_type": "code",
   "execution_count": 24,
   "metadata": {
    "slideshow": {
     "slide_type": "slide"
    }
   },
   "outputs": [
    {
     "data": {
      "text/html": [
       "<script>\n",
       "code_show=false; \n",
       "function code_toggle() {\n",
       " if (code_show){\n",
       " $('div.input').hide();\n",
       " } else {\n",
       " $('div.input').show();\n",
       " }\n",
       " code_show = !code_show\n",
       "} \n",
       "$( document ).ready(code_toggle);\n",
       "</script>\n",
       "The code is by default hidden for easier reading.\n",
       "To toggle on/off the raw code, click <a href=\"javascript:code_toggle()\">here</a>. If a figure seems to have a problem (not interactive), try to actualize it, by clicking on it and then pressing shift+enter"
      ],
      "text/plain": [
       "<IPython.core.display.HTML object>"
      ]
     },
     "execution_count": 24,
     "metadata": {},
     "output_type": "execute_result"
    }
   ],
   "source": [
    "from IPython.display import HTML\n",
    "HTML('''<script>\n",
    "code_show=false; \n",
    "function code_toggle() {\n",
    " if (code_show){\n",
    " $('div.input').hide();\n",
    " } else {\n",
    " $('div.input').show();\n",
    " }\n",
    " code_show = !code_show\n",
    "} \n",
    "$( document ).ready(code_toggle);\n",
    "</script>\n",
    "The code is by default hidden for easier reading.\n",
    "To toggle on/off the raw code, click <a href=\"javascript:code_toggle()\">here</a>. If a figure seems to have a problem (not interactive), try to actualize it, by clicking on it and then pressing shift+enter''')"
   ]
  },
  {
   "cell_type": "code",
   "execution_count": 4,
   "metadata": {
    "slideshow": {
     "slide_type": "-"
    }
   },
   "outputs": [
    {
     "data": {
      "text/html": [
       "\n",
       "\n",
       "\n",
       "\n",
       "\n",
       "\n",
       "  <div class=\"bk-root\" id=\"3d953a54-b5a6-44d8-8877-138b4447596f\"></div>\n"
      ]
     },
     "metadata": {},
     "output_type": "display_data"
    },
    {
     "data": {
      "application/javascript": [
       "(function(root) {\n",
       "  function embed_document(root) {\n",
       "    \n",
       "  var docs_json = {\"bb362148-844f-4469-94a5-01ac19a67846\":{\"roots\":{\"references\":[{\"attributes\":{\"below\":[{\"id\":\"1014\",\"type\":\"LinearAxis\"}],\"left\":[{\"id\":\"1019\",\"type\":\"LinearAxis\"}],\"plot_height\":500,\"plot_width\":1000,\"renderers\":[{\"id\":\"1014\",\"type\":\"LinearAxis\"},{\"id\":\"1018\",\"type\":\"Grid\"},{\"id\":\"1019\",\"type\":\"LinearAxis\"},{\"id\":\"1023\",\"type\":\"Grid\"},{\"id\":\"1032\",\"type\":\"BoxAnnotation\"},{\"id\":\"1050\",\"type\":\"Legend\"},{\"id\":\"1042\",\"type\":\"GlyphRenderer\"},{\"id\":\"1055\",\"type\":\"GlyphRenderer\"}],\"title\":{\"id\":\"1003\",\"type\":\"Title\"},\"toolbar\":{\"id\":\"1030\",\"type\":\"Toolbar\"},\"x_range\":{\"id\":\"1006\",\"type\":\"DataRange1d\"},\"x_scale\":{\"id\":\"1010\",\"type\":\"LinearScale\"},\"y_range\":{\"id\":\"1008\",\"type\":\"Range1d\"},\"y_scale\":{\"id\":\"1012\",\"type\":\"LinearScale\"}},\"id\":\"1004\",\"subtype\":\"Figure\",\"type\":\"Plot\"},{\"attributes\":{\"line_alpha\":0.8,\"line_color\":\"#6888cc\",\"line_width\":1.5,\"x\":{\"field\":\"x\"},\"y\":{\"field\":\"y\"}},\"id\":\"1053\",\"type\":\"Line\"},{\"attributes\":{\"callback\":null,\"end\":7,\"start\":-1},\"id\":\"1008\",\"type\":\"Range1d\"},{\"attributes\":{\"line_alpha\":0.1,\"line_color\":\"#1f77b4\",\"line_width\":1.5,\"x\":{\"field\":\"x\"},\"y\":{\"field\":\"y\"}},\"id\":\"1054\",\"type\":\"Line\"},{\"attributes\":{},\"id\":\"1010\",\"type\":\"LinearScale\"},{\"attributes\":{\"data_source\":{\"id\":\"1052\",\"type\":\"ColumnDataSource\"},\"glyph\":{\"id\":\"1053\",\"type\":\"Line\"},\"hover_glyph\":null,\"muted_glyph\":null,\"nonselection_glyph\":{\"id\":\"1054\",\"type\":\"Line\"},\"selection_glyph\":null,\"view\":{\"id\":\"1056\",\"type\":\"CDSView\"}},\"id\":\"1055\",\"type\":\"GlyphRenderer\"},{\"attributes\":{},\"id\":\"1020\",\"type\":\"BasicTicker\"},{\"attributes\":{},\"id\":\"1012\",\"type\":\"LinearScale\"},{\"attributes\":{\"source\":{\"id\":\"1052\",\"type\":\"ColumnDataSource\"}},\"id\":\"1056\",\"type\":\"CDSView\"},{\"attributes\":{\"formatter\":{\"id\":\"1045\",\"type\":\"BasicTickFormatter\"},\"plot\":{\"id\":\"1004\",\"subtype\":\"Figure\",\"type\":\"Plot\"},\"ticker\":{\"id\":\"1015\",\"type\":\"BasicTicker\"}},\"id\":\"1014\",\"type\":\"LinearAxis\"},{\"attributes\":{\"plot\":{\"id\":\"1004\",\"subtype\":\"Figure\",\"type\":\"Plot\"},\"ticker\":{\"id\":\"1015\",\"type\":\"BasicTicker\"}},\"id\":\"1018\",\"type\":\"Grid\"},{\"attributes\":{},\"id\":\"1015\",\"type\":\"BasicTicker\"},{\"attributes\":{},\"id\":\"1063\",\"type\":\"Selection\"},{\"attributes\":{\"label\":{\"value\":\"v (low amplitude)\"},\"renderers\":[{\"id\":\"1055\",\"type\":\"GlyphRenderer\"}]},\"id\":\"1065\",\"type\":\"LegendItem\"},{\"attributes\":{},\"id\":\"1028\",\"type\":\"ResetTool\"},{\"attributes\":{\"dimension\":1,\"plot\":{\"id\":\"1004\",\"subtype\":\"Figure\",\"type\":\"Plot\"},\"ticker\":{\"id\":\"1020\",\"type\":\"BasicTicker\"}},\"id\":\"1023\",\"type\":\"Grid\"},{\"attributes\":{\"callback\":null,\"data\":{\"x\":{\"__ndarray__\":\"AAAAAAAAAAD4RhSYdGqeP/hGFJh0aq4/OjUPctfPtj/4RhSYdGq+P1usDN+IAsM/OjUPctfPxj8ZvhEFJp3KP/hGFJh0as4/7GeLleEb0T9brAzfiALTP8rwjSgw6dQ/OjUPctfP1j+qeZC7frbYPxm+EQUmndo/iAKTTs2D3D/4RhSYdGreP7TFyvCNKOA/7GeLleEb4T8jCkw6NQ/iP1usDN+IAuM/k07Ng9z14z/K8I0oMOnkPwKTTs2D3OU/OjUPctfP5j9y188WK8PnP6p5kLt+tug/4RtRYNKp6T8ZvhEFJp3qP1Fg0ql5kOs/iAKTTs2D7D/ApFPzIHftP/hGFJh0au4/MOnUPMhd7z+0xcrwjSjwP9AWK8M3ovA/7GeLleEb8T8Huetni5XxPyMKTDo1D/I/P1usDN+I8j9brAzfiALzP3f9bLEyfPM/k07Ng9z18z+vny1Whm/0P8rwjSgw6fQ/5kHu+tli9T8Ck07Ng9z1Px7krp8tVvY/OjUPctfP9j9Whm9EgUn3P3LXzxYrw/c/jigw6dQ8+D+qeZC7frb4P8XK8I0oMPk/4RtRYNKp+T/9bLEyfCP6Pxm+EQUmnfo/NQ9y188W+z9RYNKpeZD7P22xMnwjCvw/iAKTTs2D/D+kU/Mgd/38P8CkU/Mgd/0/3PWzxcrw/T/4RhSYdGr+PxSYdGoe5P4/MOnUPMhd/z9MOjUPctf/P7TFyvCNKABAQu762WJlAEDQFivDN6IAQF4/W6wM3wBA7GeLleEbAUB5kLt+tlgBQAe562eLlQFAleEbUWDSAUAjCkw6NQ8CQLEyfCMKTAJAP1usDN+IAkDNg9z1s8UCQFusDN+IAgNA6dQ8yF0/A0B3/WyxMnwDQAUmnZoHuQNAk07Ng9z1A0Ahd/1ssTIEQK+fLVaGbwRAPchdP1usBEDK8I0oMOkEQFgZvhEFJgVA5kHu+tliBUB0ah7krp8FQAKTTs2D3AVAkLt+tlgZBkAe5K6fLVYGQKwM34gCkwZAOjUPctfPBkDIXT9brAwHQFaGb0SBSQdA5K6fLVaGB0By188WK8MHQA==\",\"dtype\":\"float64\",\"shape\":[101]},\"y\":{\"__ndarray__\":\"AAAAAAAAAAAAAAAAAAAAAAAAAAAAAAAAAAAAAAAAAAAAAAAAAAAAAAAAAAAAAAAAAAAAAAAAAAAAAAAAAAAAAAAAAAAAAAAAAAAAAAAAAAAAAAAAAAAAAAAAAAAAAAAAAAAAAAAAAAAAAAAAAAAAAAAAAAAAAAAAAAAAAAAAAAAAAAAAAAAAAAAAAAAAAAAAAAAAAAAAAAAAAAAAAAAAAAAAAAAAAAAAAAAAAAAAAAAAAAAAAAAAAAAAAAAAAAAAAAAAAAAAAAAAAAAAAAAAAAAAAAAAAAAAAAAAAAAAAAAAAAAAAAAAAAAAAAAAAAAAAAAAAAAAAAAAAAAAAAAAAAAAAAAAAAAAAAAAAAAAAAAAAAAAAAAAAAAAAAAAAAAAAAAAAAAAAAAAAAAAAAAAAAAAAAAAAAAAAAAAAAAAAAAAAAAAAAAAAAAAAAAAAAAAAAAAAAAAAAAAAAAAAAAAAAAAAAAAAAAAAAAAAAAAAAAAAAAAAAAAAAAAAAAAAAAAAAAAAAAAAAAAAAAAAAAAAAAAAAAAAAAAAAAAAAAAAAAAAAAAAAAAAAAAAAAAAAAAAAAAAAAAAAAAAAAAAAAAAAAAAAAAAAAAAAAAAAAAAAAAAAAAAAAAAAAAAAAAAAAAAAAAAAAAAAAAAAAAAAAAAAAAAAAAAAAAAAAAAAAAAAAAAAAAAAAAAAAAAAAAAAAAAAAAAAAAAAAAAAAAAAAAAAAAAAAAAAAAAAAAAAAAAAAAAAAAAAAAAAAAAAAAAAAAAAAAAAAAAAAAAAAAAAAAAAAAAAAAAAAAAAAAAAAAAAAAAAAAAAAAAAAAAAAAAAAAAAAAAAAAAAAAAAAAAAAAAAAAAAAAAAAAAAAAAAAAAAAAAAAAAAAAAAAAAAAAAAAAAAAAAAAAAAAAAAAAAAAAAAAAAAAAAAAAAAAAAAAAAAAAAAAAAAAAAAAAAAAAAAAAAAAAAAAAAAAAAAAAAAAAAAAAAAAAAAAAAAAAAAAAAAAAAAAAAAAAAAAAAAAAAAAAAAAAAAAAAAAAAAAAAAAAAAAAAAAAAAAAAAAAAAAAAAAAAAAAAAAAAA==\",\"dtype\":\"float64\",\"shape\":[101]}},\"selected\":{\"id\":\"1063\",\"type\":\"Selection\"},\"selection_policy\":{\"id\":\"1062\",\"type\":\"UnionRenderers\"}},\"id\":\"1039\",\"type\":\"ColumnDataSource\"},{\"attributes\":{},\"id\":\"1029\",\"type\":\"HelpTool\"},{\"attributes\":{},\"id\":\"1027\",\"type\":\"SaveTool\"},{\"attributes\":{},\"id\":\"1073\",\"type\":\"UnionRenderers\"},{\"attributes\":{\"active_drag\":\"auto\",\"active_inspect\":\"auto\",\"active_multi\":null,\"active_scroll\":\"auto\",\"active_tap\":\"auto\",\"tools\":[{\"id\":\"1024\",\"type\":\"PanTool\"},{\"id\":\"1025\",\"type\":\"WheelZoomTool\"},{\"id\":\"1026\",\"type\":\"BoxZoomTool\"},{\"id\":\"1027\",\"type\":\"SaveTool\"},{\"id\":\"1028\",\"type\":\"ResetTool\"},{\"id\":\"1029\",\"type\":\"HelpTool\"}]},\"id\":\"1030\",\"type\":\"Toolbar\"},{\"attributes\":{},\"id\":\"1074\",\"type\":\"Selection\"},{\"attributes\":{\"bottom_units\":\"screen\",\"fill_alpha\":{\"value\":0.5},\"fill_color\":{\"value\":\"lightgrey\"},\"left_units\":\"screen\",\"level\":\"overlay\",\"line_alpha\":{\"value\":1.0},\"line_color\":{\"value\":\"black\"},\"line_dash\":[4,4],\"line_width\":{\"value\":2},\"plot\":null,\"render_mode\":\"css\",\"right_units\":\"screen\",\"top_units\":\"screen\"},\"id\":\"1032\",\"type\":\"BoxAnnotation\"},{\"attributes\":{\"overlay\":{\"id\":\"1032\",\"type\":\"BoxAnnotation\"}},\"id\":\"1026\",\"type\":\"BoxZoomTool\"},{\"attributes\":{\"line_alpha\":0.1,\"line_color\":\"#1f77b4\",\"line_width\":1.5,\"x\":{\"field\":\"x\"},\"y\":{\"field\":\"y\"}},\"id\":\"1041\",\"type\":\"Line\"},{\"attributes\":{\"data_source\":{\"id\":\"1039\",\"type\":\"ColumnDataSource\"},\"glyph\":{\"id\":\"1040\",\"type\":\"Line\"},\"hover_glyph\":null,\"muted_glyph\":null,\"nonselection_glyph\":{\"id\":\"1041\",\"type\":\"Line\"},\"selection_glyph\":null,\"view\":{\"id\":\"1043\",\"type\":\"CDSView\"}},\"id\":\"1042\",\"type\":\"GlyphRenderer\"},{\"attributes\":{\"source\":{\"id\":\"1039\",\"type\":\"ColumnDataSource\"}},\"id\":\"1043\",\"type\":\"CDSView\"},{\"attributes\":{},\"id\":\"1024\",\"type\":\"PanTool\"},{\"attributes\":{},\"id\":\"1045\",\"type\":\"BasicTickFormatter\"},{\"attributes\":{},\"id\":\"1047\",\"type\":\"BasicTickFormatter\"},{\"attributes\":{\"formatter\":{\"id\":\"1047\",\"type\":\"BasicTickFormatter\"},\"plot\":{\"id\":\"1004\",\"subtype\":\"Figure\",\"type\":\"Plot\"},\"ticker\":{\"id\":\"1020\",\"type\":\"BasicTicker\"}},\"id\":\"1019\",\"type\":\"LinearAxis\"},{\"attributes\":{\"plot\":null,\"text\":\"\"},\"id\":\"1003\",\"type\":\"Title\"},{\"attributes\":{\"items\":[{\"id\":\"1051\",\"type\":\"LegendItem\"},{\"id\":\"1065\",\"type\":\"LegendItem\"}],\"plot\":{\"id\":\"1004\",\"subtype\":\"Figure\",\"type\":\"Plot\"}},\"id\":\"1050\",\"type\":\"Legend\"},{\"attributes\":{},\"id\":\"1025\",\"type\":\"WheelZoomTool\"},{\"attributes\":{\"callback\":null,\"data\":{\"x\":{\"__ndarray__\":\"AAAAAAAAAAD4RhSYdGqeP/hGFJh0aq4/OjUPctfPtj/4RhSYdGq+P1usDN+IAsM/OjUPctfPxj8ZvhEFJp3KP/hGFJh0as4/7GeLleEb0T9brAzfiALTP8rwjSgw6dQ/OjUPctfP1j+qeZC7frbYPxm+EQUmndo/iAKTTs2D3D/4RhSYdGreP7TFyvCNKOA/7GeLleEb4T8jCkw6NQ/iP1usDN+IAuM/k07Ng9z14z/K8I0oMOnkPwKTTs2D3OU/OjUPctfP5j9y188WK8PnP6p5kLt+tug/4RtRYNKp6T8ZvhEFJp3qP1Fg0ql5kOs/iAKTTs2D7D/ApFPzIHftP/hGFJh0au4/MOnUPMhd7z+0xcrwjSjwP9AWK8M3ovA/7GeLleEb8T8Huetni5XxPyMKTDo1D/I/P1usDN+I8j9brAzfiALzP3f9bLEyfPM/k07Ng9z18z+vny1Whm/0P8rwjSgw6fQ/5kHu+tli9T8Ck07Ng9z1Px7krp8tVvY/OjUPctfP9j9Whm9EgUn3P3LXzxYrw/c/jigw6dQ8+D+qeZC7frb4P8XK8I0oMPk/4RtRYNKp+T/9bLEyfCP6Pxm+EQUmnfo/NQ9y188W+z9RYNKpeZD7P22xMnwjCvw/iAKTTs2D/D+kU/Mgd/38P8CkU/Mgd/0/3PWzxcrw/T/4RhSYdGr+PxSYdGoe5P4/MOnUPMhd/z9MOjUPctf/P7TFyvCNKABAQu762WJlAEDQFivDN6IAQF4/W6wM3wBA7GeLleEbAUB5kLt+tlgBQAe562eLlQFAleEbUWDSAUAjCkw6NQ8CQLEyfCMKTAJAP1usDN+IAkDNg9z1s8UCQFusDN+IAgNA6dQ8yF0/A0B3/WyxMnwDQAUmnZoHuQNAk07Ng9z1A0Ahd/1ssTIEQK+fLVaGbwRAPchdP1usBEDK8I0oMOkEQFgZvhEFJgVA5kHu+tliBUB0ah7krp8FQAKTTs2D3AVAkLt+tlgZBkAe5K6fLVYGQKwM34gCkwZAOjUPctfPBkDIXT9brAwHQFaGb0SBSQdA5K6fLVaGB0By188WK8MHQA==\",\"dtype\":\"float64\",\"shape\":[101]},\"y\":{\"__ndarray__\":\"AAAAAAAAAAAAAAAAAAAAAAAAAAAAAAAAAAAAAAAAAAAAAAAAAAAAAAAAAAAAAAAAAAAAAAAAAAAAAAAAAAAAAAAAAAAAAAAAAAAAAAAAAAAAAAAAAAAAAAAAAAAAAAAAAAAAAAAAAAAAAAAAAAAAAAAAAAAAAAAAAAAAAAAAAAAAAAAAAAAAAAAAAAAAAAAAAAAAAAAAAAAAAAAAAAAAAAAAAAAAAAAAAAAAAAAAAAAAAAAAAAAAAAAAAAAAAAAAAAAAAAAAAAAAAAAAAAAAAAAAAAAAAAAAAAAAAAAAAAAAAAAAAAAAAAAAAAAAAAAAAAAAAAAAAAAAAAAAAAAAAAAAAAAAAAAAAAAAAAAAAAAAAAAAAAAAAAAAAAAAAAAAAAAAAAAAAAAAAAAAAAAAAAAAAAAAAAAAAAAAAAAAAAAAAAAAAAAAAAAAAAAAAAAAAAAAAAAAAAAAAAAAAAAAAAAAAAAAAAAAAAAAAAAAAAAAAAAAAAAAAAAAAAAAAAAAAAAAAAAAAAAAAAAAAAAAAAAAAAAAAAAAAAAAAAAAAAAAAAAAAAAAAAAAAAAAAAAAAAAAAAAAAAAAAAAAAAAAAAAAAAAAAAAAAAAAAAAAAAAAAAAAAAAAAAAAAAAAAAAAAAAAAAAAAAAAAAAAAAAAAAAAAAAAAAAAAAAAAAAAAAAAAAAAAAAAAAAAAAAAAAAAAAAAAAAAAAAAAAAAAAAAAAAAAAAAAAAAAAAAAAAAAAAAAAAAAAAAAAAAAAAAAAAAAAAAAAAAAAAAAAAAAAAAAAAAAAAAAAAAAAAAAAAAAAAAAAAAAAAAAAAAAAAAAAAAAAAAAAAAAAAAAAAAAAAAAAAAAAAAAAAAAAAAAAAAAAAAAAAAAAAAAAAAAAAAAAAAAAAAAAAAAAAAAAAAAAAAAAAAAAAAAAAAAAAAAAAAAAAAAAAAAAAAAAAAAAAAAAAAAAAAAAAAAAAAAAAAAAAAAAAAAAAAAAAAAAAAAAAAAAAAAAAAAAAAAAAAAAAAAAAAAAAAAAAAAAAAAAAAAAAAAAAAAAAAAAAAAAAAAAAAAAAAAAAAAAAAAA==\",\"dtype\":\"float64\",\"shape\":[101]}},\"selected\":{\"id\":\"1074\",\"type\":\"Selection\"},\"selection_policy\":{\"id\":\"1073\",\"type\":\"UnionRenderers\"}},\"id\":\"1052\",\"type\":\"ColumnDataSource\"},{\"attributes\":{\"label\":{\"value\":\"u (high amplitude)\"},\"renderers\":[{\"id\":\"1042\",\"type\":\"GlyphRenderer\"}]},\"id\":\"1051\",\"type\":\"LegendItem\"},{\"attributes\":{},\"id\":\"1062\",\"type\":\"UnionRenderers\"},{\"attributes\":{\"line_alpha\":0.8,\"line_color\":\"#88CC68\",\"line_width\":1.5,\"x\":{\"field\":\"x\"},\"y\":{\"field\":\"y\"}},\"id\":\"1040\",\"type\":\"Line\"},{\"attributes\":{\"callback\":null},\"id\":\"1006\",\"type\":\"DataRange1d\"}],\"root_ids\":[\"1004\"]},\"title\":\"Bokeh Application\",\"version\":\"1.0.2\"}};\n",
       "  var render_items = [{\"docid\":\"bb362148-844f-4469-94a5-01ac19a67846\",\"notebook_comms_target\":\"1076\",\"roots\":{\"1004\":\"3d953a54-b5a6-44d8-8877-138b4447596f\"}}];\n",
       "  root.Bokeh.embed.embed_items_notebook(docs_json, render_items);\n",
       "\n",
       "  }\n",
       "  if (root.Bokeh !== undefined) {\n",
       "    embed_document(root);\n",
       "  } else {\n",
       "    var attempts = 0;\n",
       "    var timer = setInterval(function(root) {\n",
       "      if (root.Bokeh !== undefined) {\n",
       "        embed_document(root);\n",
       "        clearInterval(timer);\n",
       "      }\n",
       "      attempts++;\n",
       "      if (attempts > 100) {\n",
       "        console.log(\"Bokeh: ERROR: Unable to run BokehJS code because BokehJS library is missing\");\n",
       "        clearInterval(timer);\n",
       "      }\n",
       "    }, 10, root)\n",
       "  }\n",
       "})(window);"
      ],
      "application/vnd.bokehjs_exec.v0+json": ""
     },
     "metadata": {
      "application/vnd.bokehjs_exec.v0+json": {
       "id": "1004"
      }
     },
     "output_type": "display_data"
    },
    {
     "data": {
      "application/vnd.jupyter.widget-view+json": {
       "model_id": "65d195f870b04b5b86df8b2f753cc647",
       "version_major": 2,
       "version_minor": 0
      },
      "text/plain": [
       "interactive(children=(Dropdown(description='type_wave', options=('square', 'peak', 'sine', 'exp'), value='squa…"
      ]
     },
     "metadata": {},
     "output_type": "display_data"
    }
   ],
   "source": [
    "from Burger import convection\n",
    "#Normal : (type_wave='square', nt=301, nx=101, tmax=0.8, xmax=2.0, c=0.5, amp=5.0)\n",
    "\n",
    "\n",
    "u, x=convection(type_wave='square', nt=301, nx=101, tmax=1, xmax=3.0, c=0.5, amp=5.0)\n",
    "v,x=convection(type_wave='square', nt=301, nx=101, tmax=1, xmax=3.0, c=0.5, amp=2.0)\n",
    "p = figure(title=\"\", plot_height=500, plot_width=1000, y_range=(-1,7),\n",
    "           background_fill_color='#ffffff')\n",
    "y=np.zeros(len(u.square))\n",
    "r1 = p.line(x, y, color=\"#88CC68\", legend='u (high amplitude)', line_width=1.5, alpha=0.8)\n",
    "r2 = p.line(x, y, color=\"#6888cc\", legend='v (low amplitude)', line_width=1.5, alpha=0.8)\n",
    "\n",
    "def update(type_wave='square', t=0):\n",
    "    if   type_wave == \"square\":\n",
    "        y1 = u.square[:, t]\n",
    "        y2 = v.square[:, t]\n",
    "    elif type_wave == \"peak\":\n",
    "        y1= u.peak[:,t]\n",
    "        y2= v.peak[:,t]\n",
    "    elif type_wave == \"sine\":\n",
    "        y1= u.sine[:,t]\n",
    "        y2= v.sine[:,t]\n",
    "    elif type_wave == \"exp\":\n",
    "        y1= u.exp[:,t]\n",
    "        y2= v.exp[:,t]\n",
    "    r1.data_source.data['y'] = y1\n",
    "    r2.data_source.data['y'] = y2\n",
    "    push_notebook()\n",
    "\n",
    "show(p, notebook_handle=True)\n",
    "\n",
    "interact(update, type_wave=['square', 'peak', 'sine', 'exp'], t=(0,249));"
   ]
  },
  {
   "cell_type": "code",
   "execution_count": 5,
   "metadata": {
    "slideshow": {
     "slide_type": "subslide"
    }
   },
   "outputs": [
    {
     "data": {
      "text/html": [
       "\n",
       "\n",
       "\n",
       "\n",
       "\n",
       "\n",
       "  <div class=\"bk-root\" id=\"37d1499d-223d-4377-9249-857bb27bf6ad\"></div>\n"
      ]
     },
     "metadata": {},
     "output_type": "display_data"
    },
    {
     "data": {
      "application/javascript": [
       "(function(root) {\n",
       "  function embed_document(root) {\n",
       "    \n",
       "  var docs_json = {\"7844479f-8291-435d-af98-8f8db954ede9\":{\"roots\":{\"references\":[{\"attributes\":{\"below\":[{\"id\":\"1151\",\"type\":\"LinearAxis\"}],\"left\":[{\"id\":\"1156\",\"type\":\"LinearAxis\"}],\"plot_height\":500,\"plot_width\":1000,\"renderers\":[{\"id\":\"1151\",\"type\":\"LinearAxis\"},{\"id\":\"1155\",\"type\":\"Grid\"},{\"id\":\"1156\",\"type\":\"LinearAxis\"},{\"id\":\"1160\",\"type\":\"Grid\"},{\"id\":\"1169\",\"type\":\"BoxAnnotation\"},{\"id\":\"1187\",\"type\":\"Legend\"},{\"id\":\"1179\",\"type\":\"GlyphRenderer\"}],\"title\":{\"id\":\"1140\",\"type\":\"Title\"},\"toolbar\":{\"id\":\"1167\",\"type\":\"Toolbar\"},\"x_range\":{\"id\":\"1143\",\"type\":\"DataRange1d\"},\"x_scale\":{\"id\":\"1147\",\"type\":\"LinearScale\"},\"y_range\":{\"id\":\"1145\",\"type\":\"Range1d\"},\"y_scale\":{\"id\":\"1149\",\"type\":\"LinearScale\"}},\"id\":\"1141\",\"subtype\":\"Figure\",\"type\":\"Plot\"},{\"attributes\":{},\"id\":\"1205\",\"type\":\"Selection\"},{\"attributes\":{\"line_alpha\":0.1,\"line_color\":\"#1f77b4\",\"line_width\":1.5,\"x\":{\"field\":\"x\"},\"y\":{\"field\":\"y\"}},\"id\":\"1178\",\"type\":\"Line\"},{\"attributes\":{\"source\":{\"id\":\"1176\",\"type\":\"ColumnDataSource\"}},\"id\":\"1180\",\"type\":\"CDSView\"},{\"attributes\":{},\"id\":\"1161\",\"type\":\"PanTool\"},{\"attributes\":{\"line_alpha\":0.8,\"line_color\":\"#88CC68\",\"line_width\":1.5,\"x\":{\"field\":\"x\"},\"y\":{\"field\":\"y\"}},\"id\":\"1177\",\"type\":\"Line\"},{\"attributes\":{},\"id\":\"1162\",\"type\":\"WheelZoomTool\"},{\"attributes\":{\"overlay\":{\"id\":\"1169\",\"type\":\"BoxAnnotation\"}},\"id\":\"1163\",\"type\":\"BoxZoomTool\"},{\"attributes\":{},\"id\":\"1164\",\"type\":\"SaveTool\"},{\"attributes\":{\"data_source\":{\"id\":\"1176\",\"type\":\"ColumnDataSource\"},\"glyph\":{\"id\":\"1177\",\"type\":\"Line\"},\"hover_glyph\":null,\"muted_glyph\":null,\"nonselection_glyph\":{\"id\":\"1178\",\"type\":\"Line\"},\"selection_glyph\":null,\"view\":{\"id\":\"1180\",\"type\":\"CDSView\"}},\"id\":\"1179\",\"type\":\"GlyphRenderer\"},{\"attributes\":{},\"id\":\"1165\",\"type\":\"ResetTool\"},{\"attributes\":{\"plot\":null,\"text\":\"\"},\"id\":\"1140\",\"type\":\"Title\"},{\"attributes\":{},\"id\":\"1166\",\"type\":\"HelpTool\"},{\"attributes\":{\"callback\":null},\"id\":\"1143\",\"type\":\"DataRange1d\"},{\"attributes\":{\"active_drag\":\"auto\",\"active_inspect\":\"auto\",\"active_multi\":null,\"active_scroll\":\"auto\",\"active_tap\":\"auto\",\"tools\":[{\"id\":\"1161\",\"type\":\"PanTool\"},{\"id\":\"1162\",\"type\":\"WheelZoomTool\"},{\"id\":\"1163\",\"type\":\"BoxZoomTool\"},{\"id\":\"1164\",\"type\":\"SaveTool\"},{\"id\":\"1165\",\"type\":\"ResetTool\"},{\"id\":\"1166\",\"type\":\"HelpTool\"}]},\"id\":\"1167\",\"type\":\"Toolbar\"},{\"attributes\":{\"callback\":null,\"end\":8,\"start\":-2},\"id\":\"1145\",\"type\":\"Range1d\"},{\"attributes\":{\"bottom_units\":\"screen\",\"fill_alpha\":{\"value\":0.5},\"fill_color\":{\"value\":\"lightgrey\"},\"left_units\":\"screen\",\"level\":\"overlay\",\"line_alpha\":{\"value\":1.0},\"line_color\":{\"value\":\"black\"},\"line_dash\":[4,4],\"line_width\":{\"value\":2},\"plot\":null,\"render_mode\":\"css\",\"right_units\":\"screen\",\"top_units\":\"screen\"},\"id\":\"1169\",\"type\":\"BoxAnnotation\"},{\"attributes\":{},\"id\":\"1147\",\"type\":\"LinearScale\"},{\"attributes\":{},\"id\":\"1149\",\"type\":\"LinearScale\"},{\"attributes\":{},\"id\":\"1182\",\"type\":\"BasicTickFormatter\"},{\"attributes\":{\"formatter\":{\"id\":\"1182\",\"type\":\"BasicTickFormatter\"},\"plot\":{\"id\":\"1141\",\"subtype\":\"Figure\",\"type\":\"Plot\"},\"ticker\":{\"id\":\"1152\",\"type\":\"BasicTicker\"}},\"id\":\"1151\",\"type\":\"LinearAxis\"},{\"attributes\":{},\"id\":\"1184\",\"type\":\"BasicTickFormatter\"},{\"attributes\":{},\"id\":\"1152\",\"type\":\"BasicTicker\"},{\"attributes\":{\"items\":[{\"id\":\"1188\",\"type\":\"LegendItem\"}],\"plot\":{\"id\":\"1141\",\"subtype\":\"Figure\",\"type\":\"Plot\"}},\"id\":\"1187\",\"type\":\"Legend\"},{\"attributes\":{\"plot\":{\"id\":\"1141\",\"subtype\":\"Figure\",\"type\":\"Plot\"},\"ticker\":{\"id\":\"1152\",\"type\":\"BasicTicker\"}},\"id\":\"1155\",\"type\":\"Grid\"},{\"attributes\":{\"label\":{\"value\":\"u (high amplitude)\"},\"renderers\":[{\"id\":\"1179\",\"type\":\"GlyphRenderer\"}]},\"id\":\"1188\",\"type\":\"LegendItem\"},{\"attributes\":{\"formatter\":{\"id\":\"1184\",\"type\":\"BasicTickFormatter\"},\"plot\":{\"id\":\"1141\",\"subtype\":\"Figure\",\"type\":\"Plot\"},\"ticker\":{\"id\":\"1157\",\"type\":\"BasicTicker\"}},\"id\":\"1156\",\"type\":\"LinearAxis\"},{\"attributes\":{},\"id\":\"1157\",\"type\":\"BasicTicker\"},{\"attributes\":{\"callback\":null,\"data\":{\"x\":{\"__ndarray__\":\"AAAAAAAAAAD4RhSYdGqeP/hGFJh0aq4/OjUPctfPtj/4RhSYdGq+P1usDN+IAsM/OjUPctfPxj8ZvhEFJp3KP/hGFJh0as4/7GeLleEb0T9brAzfiALTP8rwjSgw6dQ/OjUPctfP1j+qeZC7frbYPxm+EQUmndo/iAKTTs2D3D/4RhSYdGreP7TFyvCNKOA/7GeLleEb4T8jCkw6NQ/iP1usDN+IAuM/k07Ng9z14z/K8I0oMOnkPwKTTs2D3OU/OjUPctfP5j9y188WK8PnP6p5kLt+tug/4RtRYNKp6T8ZvhEFJp3qP1Fg0ql5kOs/iAKTTs2D7D/ApFPzIHftP/hGFJh0au4/MOnUPMhd7z+0xcrwjSjwP9AWK8M3ovA/7GeLleEb8T8Huetni5XxPyMKTDo1D/I/P1usDN+I8j9brAzfiALzP3f9bLEyfPM/k07Ng9z18z+vny1Whm/0P8rwjSgw6fQ/5kHu+tli9T8Ck07Ng9z1Px7krp8tVvY/OjUPctfP9j9Whm9EgUn3P3LXzxYrw/c/jigw6dQ8+D+qeZC7frb4P8XK8I0oMPk/4RtRYNKp+T/9bLEyfCP6Pxm+EQUmnfo/NQ9y188W+z9RYNKpeZD7P22xMnwjCvw/iAKTTs2D/D+kU/Mgd/38P8CkU/Mgd/0/3PWzxcrw/T/4RhSYdGr+PxSYdGoe5P4/MOnUPMhd/z9MOjUPctf/P7TFyvCNKABAQu762WJlAEDQFivDN6IAQF4/W6wM3wBA7GeLleEbAUB5kLt+tlgBQAe562eLlQFAleEbUWDSAUAjCkw6NQ8CQLEyfCMKTAJAP1usDN+IAkDNg9z1s8UCQFusDN+IAgNA6dQ8yF0/A0B3/WyxMnwDQAUmnZoHuQNAk07Ng9z1A0Ahd/1ssTIEQK+fLVaGbwRAPchdP1usBEDK8I0oMOkEQFgZvhEFJgVA5kHu+tliBUB0ah7krp8FQAKTTs2D3AVAkLt+tlgZBkAe5K6fLVYGQKwM34gCkwZAOjUPctfPBkDIXT9brAwHQFaGb0SBSQdA5K6fLVaGB0By188WK8MHQA==\",\"dtype\":\"float64\",\"shape\":[101]},\"y\":{\"__ndarray__\":\"AAAAAAAAAAAAAAAAAAAAAAAAAAAAAAAAAAAAAAAAAAAAAAAAAAAAAAAAAAAAAAAAAAAAAAAAAAAAAAAAAAAAAAAAAAAAAAAAAAAAAAAAAAAAAAAAAAAAAAAAAAAAAAAAAAAAAAAAAAAAAAAAAAAAAAAAAAAAAAAAAAAAAAAAAAAAAAAAAAAAAAAAAAAAAAAAAAAAAAAAAAAAAAAAAAAAAAAAAAAAAAAAAAAAAAAAAAAAAAAAAAAAAAAAAAAAAAAAAAAAAAAAAAAAAAAAAAAAAAAAAAAAAAAAAAAAAAAAAAAAAAAAAAAAAAAAAAAAAAAAAAAAAAAAAAAAAAAAAAAAAAAAAAAAAAAAAAAAAAAAAAAAAAAAAAAAAAAAAAAAAAAAAAAAAAAAAAAAAAAAAAAAAAAAAAAAAAAAAAAAAAAAAAAAAAAAAAAAAAAAAAAAAAAAAAAAAAAAAAAAAAAAAAAAAAAAAAAAAAAAAAAAAAAAAAAAAAAAAAAAAAAAAAAAAAAAAAAAAAAAAAAAAAAAAAAAAAAAAAAAAAAAAAAAAAAAAAAAAAAAAAAAAAAAAAAAAAAAAAAAAAAAAAAAAAAAAAAAAAAAAAAAAAAAAAAAAAAAAAAAAAAAAAAAAAAAAAAAAAAAAAAAAAAAAAAAAAAAAAAAAAAAAAAAAAAAAAAAAAAAAAAAAAAAAAAAAAAAAAAAAAAAAAAAAAAAAAAAAAAAAAAAAAAAAAAAAAAAAAAAAAAAAAAAAAAAAAAAAAAAAAAAAAAAAAAAAAAAAAAAAAAAAAAAAAAAAAAAAAAAAAAAAAAAAAAAAAAAAAAAAAAAAAAAAAAAAAAAAAAAAAAAAAAAAAAAAAAAAAAAAAAAAAAAAAAAAAAAAAAAAAAAAAAAAAAAAAAAAAAAAAAAAAAAAAAAAAAAAAAAAAAAAAAAAAAAAAAAAAAAAAAAAAAAAAAAAAAAAAAAAAAAAAAAAAAAAAAAAAAAAAAAAAAAAAAAAAAAAAAAAAAAAAAAAAAAAAAAAAAAAAAAAAAAAAAAAAAAAAAAAAAAAAAAAAAAAAAAAAAAAAAAAAAAAAAAAAAAAA==\",\"dtype\":\"float64\",\"shape\":[101]}},\"selected\":{\"id\":\"1205\",\"type\":\"Selection\"},\"selection_policy\":{\"id\":\"1204\",\"type\":\"UnionRenderers\"}},\"id\":\"1176\",\"type\":\"ColumnDataSource\"},{\"attributes\":{},\"id\":\"1204\",\"type\":\"UnionRenderers\"},{\"attributes\":{\"dimension\":1,\"plot\":{\"id\":\"1141\",\"subtype\":\"Figure\",\"type\":\"Plot\"},\"ticker\":{\"id\":\"1157\",\"type\":\"BasicTicker\"}},\"id\":\"1160\",\"type\":\"Grid\"}],\"root_ids\":[\"1141\"]},\"title\":\"Bokeh Application\",\"version\":\"1.0.2\"}};\n",
       "  var render_items = [{\"docid\":\"7844479f-8291-435d-af98-8f8db954ede9\",\"notebook_comms_target\":\"1207\",\"roots\":{\"1141\":\"37d1499d-223d-4377-9249-857bb27bf6ad\"}}];\n",
       "  root.Bokeh.embed.embed_items_notebook(docs_json, render_items);\n",
       "\n",
       "  }\n",
       "  if (root.Bokeh !== undefined) {\n",
       "    embed_document(root);\n",
       "  } else {\n",
       "    var attempts = 0;\n",
       "    var timer = setInterval(function(root) {\n",
       "      if (root.Bokeh !== undefined) {\n",
       "        embed_document(root);\n",
       "        clearInterval(timer);\n",
       "      }\n",
       "      attempts++;\n",
       "      if (attempts > 100) {\n",
       "        console.log(\"Bokeh: ERROR: Unable to run BokehJS code because BokehJS library is missing\");\n",
       "        clearInterval(timer);\n",
       "      }\n",
       "    }, 10, root)\n",
       "  }\n",
       "})(window);"
      ],
      "application/vnd.bokehjs_exec.v0+json": ""
     },
     "metadata": {
      "application/vnd.bokehjs_exec.v0+json": {
       "id": "1141"
      }
     },
     "output_type": "display_data"
    },
    {
     "data": {
      "application/vnd.jupyter.widget-view+json": {
       "model_id": "9c039633b7f34d75be7dc9efc5f87c22",
       "version_major": 2,
       "version_minor": 0
      },
      "text/plain": [
       "interactive(children=(Dropdown(description='type_wave', options=('square', 'peak', 'sine', 'exp'), value='squa…"
      ]
     },
     "metadata": {},
     "output_type": "display_data"
    }
   ],
   "source": [
    "from Burger import convection2\n",
    "#Normal : (type_wave='square', nt=301, nx=101, tmax=0.8, xmax=2.0, c=0.5, amp=5.0)\n",
    "u, x=convection2(type_wave='square', nt=301, nx=101, tmax=1, xmax=3.0, c=0.5, amp=1)\n",
    "p = figure(title=\"\", plot_height=500, plot_width=1000, y_range=(-2,8),\n",
    "           background_fill_color='#ffffff')\n",
    "y=np.zeros(len(u.amp2.square))\n",
    "r1 = p.line(x, y, color=\"#88CC68\", legend='u (high amplitude)', line_width=1.5, alpha=0.8)\n",
    "def update(type_wave='square', t=0, amp=1):\n",
    "        if amp==2:\n",
    "            if   type_wave == \"square\":\n",
    "                y1 = u.amp2.square[:, t]\n",
    "            elif type_wave == \"peak\":\n",
    "                y1= u.amp2.peak[:,t]\n",
    "            elif type_wave == \"sine\":\n",
    "                y1= u.amp2.sine[:,t]\n",
    "            elif type_wave == \"exp\":\n",
    "                y1= u.amp2.exp[:,t]\n",
    "            r1.data_source.data['y'] = y1\n",
    "            push_notebook()\n",
    "        elif amp==3:\n",
    "            if   type_wave == \"square\":\n",
    "                y1 = u.amp3.square[:, t]\n",
    "            elif type_wave == \"peak\":\n",
    "                y1= u.amp3.peak[:,t]\n",
    "            elif type_wave == \"sine\":\n",
    "                y1= u.amp3.sine[:,t]\n",
    "            elif type_wave == \"exp\":\n",
    "                y1= u.amp3.exp[:,t]\n",
    "            r1.data_source.data['y'] = y1\n",
    "            push_notebook()\n",
    "\n",
    "        elif amp==4:\n",
    "            if   type_wave == \"square\":\n",
    "                y1 = u.amp4.square[:, t]\n",
    "            elif type_wave == \"peak\":\n",
    "                y1= u.amp4.peak[:,t]\n",
    "            elif type_wave == \"sine\":\n",
    "                y1= u.amp4.sine[:,t]\n",
    "            elif type_wave == \"exp\":\n",
    "                y1= u.amp4.exp[:,t]\n",
    "            r1.data_source.data['y'] = y1\n",
    "            push_notebook()\n",
    "        elif amp==5:\n",
    "            if   type_wave == \"square\":\n",
    "                y1 = u.amp5.square[:, t]\n",
    "            elif type_wave == \"peak\":\n",
    "                y1= u.amp5.peak[:,t]\n",
    "            elif type_wave == \"sine\":\n",
    "                y1= u.amp5.sine[:,t]\n",
    "            elif type_wave == \"exp\":\n",
    "                y1= u.amp5.exp[:,t]\n",
    "            r1.data_source.data['y'] = y1\n",
    "            push_notebook()\n",
    "        elif amp==6:\n",
    "            if   type_wave == \"square\":\n",
    "                y1 = u.amp6.square[:, t]\n",
    "            elif type_wave == \"peak\":\n",
    "                y1= u.amp6.peak[:,t]\n",
    "            elif type_wave == \"sine\":\n",
    "                y1= u.amp6.sine[:,t]\n",
    "            elif type_wave == \"exp\":\n",
    "                y1= u.amp6.exp[:,t]\n",
    "            r1.data_source.data['y'] = y1\n",
    "            push_notebook()\n",
    "        elif amp==7:\n",
    "            if   type_wave == \"square\":\n",
    "                y1 = u.amp7.square[:, t]\n",
    "            elif type_wave == \"peak\":\n",
    "                y1= u.amp7.peak[:,t]\n",
    "            elif type_wave == \"sine\":\n",
    "                y1= u.amp7.sine[:,t]\n",
    "            elif type_wave == \"exp\":\n",
    "                y1= u.amp7.exp[:,t]\n",
    "            r1.data_source.data['y'] = y1\n",
    "            push_notebook()\n",
    "\n",
    "\n",
    "show(p, notebook_handle=True)\n",
    "\n",
    "interact(update, type_wave=['square', 'peak', 'sine', 'exp'], t=(0,249), amp=(2,7));"
   ]
  },
  {
   "cell_type": "markdown",
   "metadata": {
    "slideshow": {
     "slide_type": "subslide"
    }
   },
   "source": [
    "As we can see, the high amplitude atteins the non-singular solution (shock wave front) far more rapidly than the low amplitude"
   ]
  },
  {
   "cell_type": "markdown",
   "metadata": {
    "slideshow": {
     "slide_type": "slide"
    }
   },
   "source": [
    "# Space-time representation"
   ]
  },
  {
   "cell_type": "code",
   "execution_count": 27,
   "metadata": {
    "slideshow": {
     "slide_type": "-"
    }
   },
   "outputs": [
    {
     "data": {
      "text/html": [
       "<script>\n",
       "code_show=false; \n",
       "function code_toggle() {\n",
       " if (code_show){\n",
       " $('div.input').hide();\n",
       " } else {\n",
       " $('div.input').show();\n",
       " }\n",
       " code_show = !code_show\n",
       "} \n",
       "$( document ).ready(code_toggle);\n",
       "</script>\n",
       "The code is by default hidden for easier reading.\n",
       "To toggle on/off the raw code, click <a href=\"javascript:code_toggle()\">here</a>. If a figure seems to have a problem (not interactive), try to actualize it, by clicking on it and then pressing shift+enter"
      ],
      "text/plain": [
       "<IPython.core.display.HTML object>"
      ]
     },
     "execution_count": 27,
     "metadata": {},
     "output_type": "execute_result"
    }
   ],
   "source": [
    "from IPython.display import HTML\n",
    "HTML('''<script>\n",
    "code_show=false; \n",
    "function code_toggle() {\n",
    " if (code_show){\n",
    " $('div.input').hide();\n",
    " } else {\n",
    " $('div.input').show();\n",
    " }\n",
    " code_show = !code_show\n",
    "} \n",
    "$( document ).ready(code_toggle);\n",
    "</script>\n",
    "The code is by default hidden for easier reading.\n",
    "To toggle on/off the raw code, click <a href=\"javascript:code_toggle()\">here</a>. If a figure seems to have a problem (not interactive), try to actualize it, by clicking on it and then pressing shift+enter''')"
   ]
  },
  {
   "cell_type": "code",
   "execution_count": 28,
   "metadata": {
    "slideshow": {
     "slide_type": "-"
    }
   },
   "outputs": [
    {
     "data": {
      "application/vnd.jupyter.widget-view+json": {
       "model_id": "ac9081a329d74b13b85e498593cde24d",
       "version_major": 2,
       "version_minor": 0
      },
      "text/plain": [
       "interactive(children=(Dropdown(description='type_wave', options=('square', 'peak', 'sine', 'exp'), value='squa…"
      ]
     },
     "metadata": {},
     "output_type": "display_data"
    }
   ],
   "source": [
    "from Burger import convection2\n",
    "from Burger import plot_color\n",
    "\n",
    "u,x=convection2(type_wave='square', nt=301, nx=101, tmax=0.8, xmax=3.0, c=0.5, amp=3.0)\n",
    "def update(type_wave='square', amp=0):\n",
    "    nt=300\n",
    "    if amp==2:\n",
    "        if   type_wave == \"square\":\n",
    "            plot_color(u.amp2.square,x, nt)\n",
    "        elif type_wave == \"peak\":\n",
    "             plot_color(u.amp2.peak,x, nt)\n",
    "        elif type_wave == \"sine\":\n",
    "             plot_color(u.amp2.sine,x, nt)\n",
    "        elif type_wave == \"exp\":\n",
    "             plot_color(u.amp2.exp,x, nt)\n",
    "    elif amp==3:\n",
    "        if   type_wave == \"square\":\n",
    "            plot_color(u.amp3.square,x, nt)\n",
    "        elif type_wave == \"peak\":\n",
    "             plot_color(u.amp3.peak,x, nt)\n",
    "        elif type_wave == \"sine\":\n",
    "             plot_color(u.amp3.sine,x, nt)\n",
    "        elif type_wave == \"exp\":\n",
    "             plot_color(u.amp3.exp,x, nt)\n",
    "    \n",
    "    elif amp==4:\n",
    "        if   type_wave == \"square\":\n",
    "            plot_color(u.amp4.square,x, nt)\n",
    "        elif type_wave == \"peak\":\n",
    "             plot_color(u.amp4.peak,x, nt)\n",
    "        elif type_wave == \"sine\":\n",
    "             plot_color(u.amp4.sine,x, nt)\n",
    "        elif type_wave == \"exp\":\n",
    "             plot_color(u.amp4.exp,x, nt)\n",
    "    elif amp==5:\n",
    "        if   type_wave == \"square\":\n",
    "            plot_color(u.amp5.square,x, nt)\n",
    "        elif type_wave == \"peak\":\n",
    "             plot_color(u.amp5.peak,x, nt)\n",
    "        elif type_wave == \"sine\":\n",
    "             plot_color(u.amp5.sine,x, nt)\n",
    "        elif type_wave == \"exp\":\n",
    "             plot_color(u.amp5.exp,x, nt)\n",
    "                \n",
    "    elif amp==6:\n",
    "        if   type_wave == \"square\":\n",
    "            plot_color(u.amp6.square,x, nt)\n",
    "        elif type_wave == \"peak\":\n",
    "             plot_color(u.amp6.peak,x, nt)\n",
    "        elif type_wave == \"sine\":\n",
    "             plot_color(u.amp6.sine,x, nt)\n",
    "        elif type_wave == \"exp\":\n",
    "             plot_color(u.amp6.exp,x, nt)\n",
    "                \n",
    "    elif amp==7:\n",
    "        if   type_wave == \"square\":\n",
    "            plot_color(u.amp7.square,x, nt)\n",
    "        elif type_wave == \"peak\":\n",
    "             plot_color(u.amp7.peak,x, nt)\n",
    "        elif type_wave == \"sine\":\n",
    "             plot_color(u.amp7.sine,x, nt)\n",
    "        elif type_wave == \"exp\":\n",
    "             plot_color(u.amp7.exp,x, nt)\n",
    "                \n",
    "\n",
    "interact(update, type_wave=['square', 'peak', 'sine', 'exp'], amp=(2,7));"
   ]
  },
  {
   "cell_type": "markdown",
   "metadata": {
    "slideshow": {
     "slide_type": "subslide"
    }
   },
   "source": [
    "Now, if we observe the results one could see the formation of the shock wave. Now, what could be the real interpretation of this graph ? (in terms of car, velocity etc...)"
   ]
  },
  {
   "cell_type": "markdown",
   "metadata": {
    "slideshow": {
     "slide_type": "slide"
    }
   },
   "source": [
    "## Going further..."
   ]
  },
  {
   "cell_type": "markdown",
   "metadata": {
    "slideshow": {
     "slide_type": "-"
    }
   },
   "source": [
    "We could go further by adding the viscosity (nu not equal to 0) see the viscous 1-D Burger equation."
   ]
  },
  {
   "cell_type": "code",
   "execution_count": 29,
   "metadata": {
    "slideshow": {
     "slide_type": "slide"
    }
   },
   "outputs": [
    {
     "data": {
      "text/html": [
       "<script>\n",
       "code_show=false; \n",
       "function code_toggle() {\n",
       " if (code_show){\n",
       " $('div.input').hide();\n",
       " } else {\n",
       " $('div.input').show();\n",
       " }\n",
       " code_show = !code_show\n",
       "} \n",
       "$( document ).ready(code_toggle);\n",
       "</script>\n",
       "The code is by default hidden for easier reading.\n",
       "To toggle on/off the raw code, click <a href=\"javascript:code_toggle()\">here</a>. If a figure seems to have a problem (not interactive), try to actualize it, by clicking on it and then pressing shift+enter"
      ],
      "text/plain": [
       "<IPython.core.display.HTML object>"
      ]
     },
     "execution_count": 29,
     "metadata": {},
     "output_type": "execute_result"
    }
   ],
   "source": [
    "from IPython.display import HTML\n",
    "HTML('''<script>\n",
    "code_show=false; \n",
    "function code_toggle() {\n",
    " if (code_show){\n",
    " $('div.input').hide();\n",
    " } else {\n",
    " $('div.input').show();\n",
    " }\n",
    " code_show = !code_show\n",
    "} \n",
    "$( document ).ready(code_toggle);\n",
    "</script>\n",
    "The code is by default hidden for easier reading.\n",
    "To toggle on/off the raw code, click <a href=\"javascript:code_toggle()\">here</a>. If a figure seems to have a problem (not interactive), try to actualize it, by clicking on it and then pressing shift+enter''')"
   ]
  },
  {
   "cell_type": "code",
   "execution_count": 30,
   "metadata": {
    "slideshow": {
     "slide_type": "-"
    }
   },
   "outputs": [
    {
     "data": {
      "text/html": [
       "\n",
       "\n",
       "\n",
       "\n",
       "\n",
       "\n",
       "  <div class=\"bk-root\" id=\"48a72350-dd0c-4e81-896a-8e9fb72f7a41\"></div>\n"
      ]
     },
     "metadata": {},
     "output_type": "display_data"
    },
    {
     "data": {
      "application/javascript": [
       "(function(root) {\n",
       "  function embed_document(root) {\n",
       "    \n",
       "  var docs_json = {\"5833e2fa-4670-4f00-8669-dcde775677d6\":{\"roots\":{\"references\":[{\"attributes\":{\"below\":[{\"id\":\"1807\",\"type\":\"LinearAxis\"}],\"left\":[{\"id\":\"1812\",\"type\":\"LinearAxis\"}],\"plot_height\":500,\"plot_width\":1000,\"renderers\":[{\"id\":\"1807\",\"type\":\"LinearAxis\"},{\"id\":\"1811\",\"type\":\"Grid\"},{\"id\":\"1812\",\"type\":\"LinearAxis\"},{\"id\":\"1816\",\"type\":\"Grid\"},{\"id\":\"1825\",\"type\":\"BoxAnnotation\"},{\"id\":\"1843\",\"type\":\"Legend\"},{\"id\":\"1835\",\"type\":\"GlyphRenderer\"},{\"id\":\"1848\",\"type\":\"GlyphRenderer\"},{\"id\":\"1862\",\"type\":\"GlyphRenderer\"},{\"id\":\"1878\",\"type\":\"GlyphRenderer\"}],\"title\":{\"id\":\"1796\",\"type\":\"Title\"},\"toolbar\":{\"id\":\"1823\",\"type\":\"Toolbar\"},\"x_range\":{\"id\":\"1799\",\"type\":\"DataRange1d\"},\"x_scale\":{\"id\":\"1803\",\"type\":\"LinearScale\"},\"y_range\":{\"id\":\"1801\",\"type\":\"Range1d\"},\"y_scale\":{\"id\":\"1805\",\"type\":\"LinearScale\"}},\"id\":\"1797\",\"subtype\":\"Figure\",\"type\":\"Plot\"},{\"attributes\":{},\"id\":\"1820\",\"type\":\"SaveTool\"},{\"attributes\":{},\"id\":\"1955\",\"type\":\"Selection\"},{\"attributes\":{\"callback\":null,\"data\":{\"x\":{\"__ndarray__\":\"AAAAAAAAAAD4RhSYdGqeP/hGFJh0aq4/OjUPctfPtj/4RhSYdGq+P1usDN+IAsM/OjUPctfPxj8ZvhEFJp3KP/hGFJh0as4/7GeLleEb0T9brAzfiALTP8rwjSgw6dQ/OjUPctfP1j+qeZC7frbYPxm+EQUmndo/iAKTTs2D3D/4RhSYdGreP7TFyvCNKOA/7GeLleEb4T8jCkw6NQ/iP1usDN+IAuM/k07Ng9z14z/K8I0oMOnkPwKTTs2D3OU/OjUPctfP5j9y188WK8PnP6p5kLt+tug/4RtRYNKp6T8ZvhEFJp3qP1Fg0ql5kOs/iAKTTs2D7D/ApFPzIHftP/hGFJh0au4/MOnUPMhd7z+0xcrwjSjwP9AWK8M3ovA/7GeLleEb8T8Huetni5XxPyMKTDo1D/I/P1usDN+I8j9brAzfiALzP3f9bLEyfPM/k07Ng9z18z+vny1Whm/0P8rwjSgw6fQ/5kHu+tli9T8Ck07Ng9z1Px7krp8tVvY/OjUPctfP9j9Whm9EgUn3P3LXzxYrw/c/jigw6dQ8+D+qeZC7frb4P8XK8I0oMPk/4RtRYNKp+T/9bLEyfCP6Pxm+EQUmnfo/NQ9y188W+z9RYNKpeZD7P22xMnwjCvw/iAKTTs2D/D+kU/Mgd/38P8CkU/Mgd/0/3PWzxcrw/T/4RhSYdGr+PxSYdGoe5P4/MOnUPMhd/z9MOjUPctf/P7TFyvCNKABAQu762WJlAEDQFivDN6IAQF4/W6wM3wBA7GeLleEbAUB5kLt+tlgBQAe562eLlQFAleEbUWDSAUAjCkw6NQ8CQLEyfCMKTAJAP1usDN+IAkDNg9z1s8UCQFusDN+IAgNA6dQ8yF0/A0B3/WyxMnwDQAUmnZoHuQNAk07Ng9z1A0Ahd/1ssTIEQK+fLVaGbwRAPchdP1usBEDK8I0oMOkEQFgZvhEFJgVA5kHu+tliBUB0ah7krp8FQAKTTs2D3AVAkLt+tlgZBkAe5K6fLVYGQKwM34gCkwZAOjUPctfPBkDIXT9brAwHQFaGb0SBSQdA5K6fLVaGB0By188WK8MHQA==\",\"dtype\":\"float64\",\"shape\":[101]},\"y\":{\"__ndarray__\":\"AAAAAAAAAAAAAAAAAAAAAAAAAAAAAAAAAAAAAAAAAAAAAAAAAAAAAAAAAAAAAAAAAAAAAAAAAAAAAAAAAAAAAAAAAAAAAAAAAAAAAAAAAAAAAAAAAAAAAAAAAAAAAAAAAAAAAAAAAAAAAAAAAAAAAAAAAAAAAAAAAAAAAAAAAAAAAAAAAAAAAAAAAAAAAAAAAAAAAAAAAAAAAAAAAAAAAAAAAAAAAAAAAAAAAAAAAAAAAAAAAAAAAAAAAAAAAAAAAAAAAAAAAAAAAAAAAAAAAAAAAAAAAAAAAAAAAAAAAAAAAAAAAAAAAAAAAAAAAAAAAAAAAAAAAAAAAAAAAAAAAAAAAAAAAAAAAAAAAAAAAAAAAAAAAAAAAAAAAAAAAAAAAAAAAAAAAAAAAAAAAAAAAAAAAAAAAAAAAAAAAAAAAAAAAAAAAAAAAAAAAAAAAAAAAAAAAAAAAAAAAAAAAAAAAAAAAAAAAAAAAAAAAAAAAAAAAAAAAAAAAAAAAAAAAAAAAAAAAAAAAAAAAAAAAAAAAAAAAAAAAAAAAAAAAAAAAAAAAAAAAAAAAAAAAAAAAAAAAAAAAAAAAAAAAAAAAAAAAAAAAAAAAAAAAAAAAAAAAAAAAAAAAAAAAAAAAAAAAAAAAAAAAAAAAAAAAAAAAAAAAAAAAAAAAAAAAAAAAAAAAAAAAAAAAAAAAAAAAAAAAAAAAAAAAAAAAAAAAAAAAAAAAAAAAAAAAAAAAAAAAAAAAAAAAAAAAAAAAAAAAAAAAAAAAAAAAAAAAAAAAAAAAAAAAAAAAAAAAAAAAAAAAAAAAAAAAAAAAAAAAAAAAAAAAAAAAAAAAAAAAAAAAAAAAAAAAAAAAAAAAAAAAAAAAAAAAAAAAAAAAAAAAAAAAAAAAAAAAAAAAAAAAAAAAAAAAAAAAAAAAAAAAAAAAAAAAAAAAAAAAAAAAAAAAAAAAAAAAAAAAAAAAAAAAAAAAAAAAAAAAAAAAAAAAAAAAAAAAAAAAAAAAAAAAAAAAAAAAAAAAAAAAAAAAAAAAAAAAAAAAAAAAAAAAAAAAAAAAAAAAAAAAAAAAAAAAAAAAA==\",\"dtype\":\"float64\",\"shape\":[101]}},\"selected\":{\"id\":\"1955\",\"type\":\"Selection\"},\"selection_policy\":{\"id\":\"1954\",\"type\":\"UnionRenderers\"}},\"id\":\"1875\",\"type\":\"ColumnDataSource\"},{\"attributes\":{\"line_alpha\":0.8,\"line_color\":\"#88CC68\",\"line_width\":1.5,\"x\":{\"field\":\"x\"},\"y\":{\"field\":\"y\"}},\"id\":\"1833\",\"type\":\"Line\"},{\"attributes\":{},\"id\":\"1821\",\"type\":\"ResetTool\"},{\"attributes\":{\"line_alpha\":0.8,\"line_color\":\"#8a1bc9\",\"line_width\":1.5,\"x\":{\"field\":\"x\"},\"y\":{\"field\":\"y\"}},\"id\":\"1860\",\"type\":\"Line\"},{\"attributes\":{},\"id\":\"1822\",\"type\":\"HelpTool\"},{\"attributes\":{\"line_alpha\":0.1,\"line_color\":\"#1f77b4\",\"line_width\":1.5,\"x\":{\"field\":\"x\"},\"y\":{\"field\":\"y\"}},\"id\":\"1861\",\"type\":\"Line\"},{\"attributes\":{\"active_drag\":\"auto\",\"active_inspect\":\"auto\",\"active_multi\":null,\"active_scroll\":\"auto\",\"active_tap\":\"auto\",\"tools\":[{\"id\":\"1817\",\"type\":\"PanTool\"},{\"id\":\"1818\",\"type\":\"WheelZoomTool\"},{\"id\":\"1819\",\"type\":\"BoxZoomTool\"},{\"id\":\"1820\",\"type\":\"SaveTool\"},{\"id\":\"1821\",\"type\":\"ResetTool\"},{\"id\":\"1822\",\"type\":\"HelpTool\"}]},\"id\":\"1823\",\"type\":\"Toolbar\"},{\"attributes\":{\"data_source\":{\"id\":\"1859\",\"type\":\"ColumnDataSource\"},\"glyph\":{\"id\":\"1860\",\"type\":\"Line\"},\"hover_glyph\":null,\"muted_glyph\":null,\"nonselection_glyph\":{\"id\":\"1861\",\"type\":\"Line\"},\"selection_glyph\":null,\"view\":{\"id\":\"1863\",\"type\":\"CDSView\"}},\"id\":\"1862\",\"type\":\"GlyphRenderer\"},{\"attributes\":{},\"id\":\"1805\",\"type\":\"LinearScale\"},{\"attributes\":{\"source\":{\"id\":\"1859\",\"type\":\"ColumnDataSource\"}},\"id\":\"1863\",\"type\":\"CDSView\"},{\"attributes\":{\"bottom_units\":\"screen\",\"fill_alpha\":{\"value\":0.5},\"fill_color\":{\"value\":\"lightgrey\"},\"left_units\":\"screen\",\"level\":\"overlay\",\"line_alpha\":{\"value\":1.0},\"line_color\":{\"value\":\"black\"},\"line_dash\":[4,4],\"line_width\":{\"value\":2},\"plot\":null,\"render_mode\":\"css\",\"right_units\":\"screen\",\"top_units\":\"screen\"},\"id\":\"1825\",\"type\":\"BoxAnnotation\"},{\"attributes\":{},\"id\":\"1803\",\"type\":\"LinearScale\"},{\"attributes\":{\"callback\":null,\"end\":7,\"start\":-2},\"id\":\"1801\",\"type\":\"Range1d\"},{\"attributes\":{},\"id\":\"1871\",\"type\":\"UnionRenderers\"},{\"attributes\":{},\"id\":\"1838\",\"type\":\"BasicTickFormatter\"},{\"attributes\":{},\"id\":\"1872\",\"type\":\"Selection\"},{\"attributes\":{\"formatter\":{\"id\":\"1840\",\"type\":\"BasicTickFormatter\"},\"plot\":{\"id\":\"1797\",\"subtype\":\"Figure\",\"type\":\"Plot\"},\"ticker\":{\"id\":\"1808\",\"type\":\"BasicTicker\"}},\"id\":\"1807\",\"type\":\"LinearAxis\"},{\"attributes\":{},\"id\":\"1840\",\"type\":\"BasicTickFormatter\"},{\"attributes\":{\"label\":{\"value\":\"u (low amplitude), with viscosity\"},\"renderers\":[{\"id\":\"1862\",\"type\":\"GlyphRenderer\"}]},\"id\":\"1874\",\"type\":\"LegendItem\"},{\"attributes\":{},\"id\":\"1808\",\"type\":\"BasicTicker\"},{\"attributes\":{\"items\":[{\"id\":\"1844\",\"type\":\"LegendItem\"},{\"id\":\"1858\",\"type\":\"LegendItem\"},{\"id\":\"1874\",\"type\":\"LegendItem\"},{\"id\":\"1892\",\"type\":\"LegendItem\"}],\"plot\":{\"id\":\"1797\",\"subtype\":\"Figure\",\"type\":\"Plot\"}},\"id\":\"1843\",\"type\":\"Legend\"},{\"attributes\":{\"plot\":null,\"text\":\"\"},\"id\":\"1796\",\"type\":\"Title\"},{\"attributes\":{\"plot\":{\"id\":\"1797\",\"subtype\":\"Figure\",\"type\":\"Plot\"},\"ticker\":{\"id\":\"1808\",\"type\":\"BasicTicker\"}},\"id\":\"1811\",\"type\":\"Grid\"},{\"attributes\":{\"label\":{\"value\":\"u (high amplitude), no viscosity\"},\"renderers\":[{\"id\":\"1835\",\"type\":\"GlyphRenderer\"}]},\"id\":\"1844\",\"type\":\"LegendItem\"},{\"attributes\":{\"line_alpha\":0.8,\"line_color\":\"#c96a1b\",\"line_width\":1.5,\"x\":{\"field\":\"x\"},\"y\":{\"field\":\"y\"}},\"id\":\"1876\",\"type\":\"Line\"},{\"attributes\":{\"formatter\":{\"id\":\"1838\",\"type\":\"BasicTickFormatter\"},\"plot\":{\"id\":\"1797\",\"subtype\":\"Figure\",\"type\":\"Plot\"},\"ticker\":{\"id\":\"1813\",\"type\":\"BasicTicker\"}},\"id\":\"1812\",\"type\":\"LinearAxis\"},{\"attributes\":{\"callback\":null,\"data\":{\"x\":{\"__ndarray__\":\"AAAAAAAAAAD4RhSYdGqeP/hGFJh0aq4/OjUPctfPtj/4RhSYdGq+P1usDN+IAsM/OjUPctfPxj8ZvhEFJp3KP/hGFJh0as4/7GeLleEb0T9brAzfiALTP8rwjSgw6dQ/OjUPctfP1j+qeZC7frbYPxm+EQUmndo/iAKTTs2D3D/4RhSYdGreP7TFyvCNKOA/7GeLleEb4T8jCkw6NQ/iP1usDN+IAuM/k07Ng9z14z/K8I0oMOnkPwKTTs2D3OU/OjUPctfP5j9y188WK8PnP6p5kLt+tug/4RtRYNKp6T8ZvhEFJp3qP1Fg0ql5kOs/iAKTTs2D7D/ApFPzIHftP/hGFJh0au4/MOnUPMhd7z+0xcrwjSjwP9AWK8M3ovA/7GeLleEb8T8Huetni5XxPyMKTDo1D/I/P1usDN+I8j9brAzfiALzP3f9bLEyfPM/k07Ng9z18z+vny1Whm/0P8rwjSgw6fQ/5kHu+tli9T8Ck07Ng9z1Px7krp8tVvY/OjUPctfP9j9Whm9EgUn3P3LXzxYrw/c/jigw6dQ8+D+qeZC7frb4P8XK8I0oMPk/4RtRYNKp+T/9bLEyfCP6Pxm+EQUmnfo/NQ9y188W+z9RYNKpeZD7P22xMnwjCvw/iAKTTs2D/D+kU/Mgd/38P8CkU/Mgd/0/3PWzxcrw/T/4RhSYdGr+PxSYdGoe5P4/MOnUPMhd/z9MOjUPctf/P7TFyvCNKABAQu762WJlAEDQFivDN6IAQF4/W6wM3wBA7GeLleEbAUB5kLt+tlgBQAe562eLlQFAleEbUWDSAUAjCkw6NQ8CQLEyfCMKTAJAP1usDN+IAkDNg9z1s8UCQFusDN+IAgNA6dQ8yF0/A0B3/WyxMnwDQAUmnZoHuQNAk07Ng9z1A0Ahd/1ssTIEQK+fLVaGbwRAPchdP1usBEDK8I0oMOkEQFgZvhEFJgVA5kHu+tliBUB0ah7krp8FQAKTTs2D3AVAkLt+tlgZBkAe5K6fLVYGQKwM34gCkwZAOjUPctfPBkDIXT9brAwHQFaGb0SBSQdA5K6fLVaGB0By188WK8MHQA==\",\"dtype\":\"float64\",\"shape\":[101]},\"y\":{\"__ndarray__\":\"AAAAAAAAAAAAAAAAAAAAAAAAAAAAAAAAAAAAAAAAAAAAAAAAAAAAAAAAAAAAAAAAAAAAAAAAAAAAAAAAAAAAAAAAAAAAAAAAAAAAAAAAAAAAAAAAAAAAAAAAAAAAAAAAAAAAAAAAAAAAAAAAAAAAAAAAAAAAAAAAAAAAAAAAAAAAAAAAAAAAAAAAAAAAAAAAAAAAAAAAAAAAAAAAAAAAAAAAAAAAAAAAAAAAAAAAAAAAAAAAAAAAAAAAAAAAAAAAAAAAAAAAAAAAAAAAAAAAAAAAAAAAAAAAAAAAAAAAAAAAAAAAAAAAAAAAAAAAAAAAAAAAAAAAAAAAAAAAAAAAAAAAAAAAAAAAAAAAAAAAAAAAAAAAAAAAAAAAAAAAAAAAAAAAAAAAAAAAAAAAAAAAAAAAAAAAAAAAAAAAAAAAAAAAAAAAAAAAAAAAAAAAAAAAAAAAAAAAAAAAAAAAAAAAAAAAAAAAAAAAAAAAAAAAAAAAAAAAAAAAAAAAAAAAAAAAAAAAAAAAAAAAAAAAAAAAAAAAAAAAAAAAAAAAAAAAAAAAAAAAAAAAAAAAAAAAAAAAAAAAAAAAAAAAAAAAAAAAAAAAAAAAAAAAAAAAAAAAAAAAAAAAAAAAAAAAAAAAAAAAAAAAAAAAAAAAAAAAAAAAAAAAAAAAAAAAAAAAAAAAAAAAAAAAAAAAAAAAAAAAAAAAAAAAAAAAAAAAAAAAAAAAAAAAAAAAAAAAAAAAAAAAAAAAAAAAAAAAAAAAAAAAAAAAAAAAAAAAAAAAAAAAAAAAAAAAAAAAAAAAAAAAAAAAAAAAAAAAAAAAAAAAAAAAAAAAAAAAAAAAAAAAAAAAAAAAAAAAAAAAAAAAAAAAAAAAAAAAAAAAAAAAAAAAAAAAAAAAAAAAAAAAAAAAAAAAAAAAAAAAAAAAAAAAAAAAAAAAAAAAAAAAAAAAAAAAAAAAAAAAAAAAAAAAAAAAAAAAAAAAAAAAAAAAAAAAAAAAAAAAAAAAAAAAAAAAAAAAAAAAAAAAAAAAAAAAAAAAAAAAAAAAAAAAAAAAAAAAAAAAAAAAAAAAAAAAAAAAAA==\",\"dtype\":\"float64\",\"shape\":[101]}},\"selected\":{\"id\":\"1890\",\"type\":\"Selection\"},\"selection_policy\":{\"id\":\"1889\",\"type\":\"UnionRenderers\"}},\"id\":\"1859\",\"type\":\"ColumnDataSource\"},{\"attributes\":{\"line_alpha\":0.1,\"line_color\":\"#1f77b4\",\"line_width\":1.5,\"x\":{\"field\":\"x\"},\"y\":{\"field\":\"y\"}},\"id\":\"1877\",\"type\":\"Line\"},{\"attributes\":{},\"id\":\"1813\",\"type\":\"BasicTicker\"},{\"attributes\":{\"line_alpha\":0.8,\"line_color\":\"#6888cc\",\"line_width\":1.5,\"x\":{\"field\":\"x\"},\"y\":{\"field\":\"y\"}},\"id\":\"1846\",\"type\":\"Line\"},{\"attributes\":{\"data_source\":{\"id\":\"1875\",\"type\":\"ColumnDataSource\"},\"glyph\":{\"id\":\"1876\",\"type\":\"Line\"},\"hover_glyph\":null,\"muted_glyph\":null,\"nonselection_glyph\":{\"id\":\"1877\",\"type\":\"Line\"},\"selection_glyph\":null,\"view\":{\"id\":\"1879\",\"type\":\"CDSView\"}},\"id\":\"1878\",\"type\":\"GlyphRenderer\"},{\"attributes\":{\"dimension\":1,\"plot\":{\"id\":\"1797\",\"subtype\":\"Figure\",\"type\":\"Plot\"},\"ticker\":{\"id\":\"1813\",\"type\":\"BasicTicker\"}},\"id\":\"1816\",\"type\":\"Grid\"},{\"attributes\":{\"line_alpha\":0.1,\"line_color\":\"#1f77b4\",\"line_width\":1.5,\"x\":{\"field\":\"x\"},\"y\":{\"field\":\"y\"}},\"id\":\"1847\",\"type\":\"Line\"},{\"attributes\":{\"source\":{\"id\":\"1875\",\"type\":\"ColumnDataSource\"}},\"id\":\"1879\",\"type\":\"CDSView\"},{\"attributes\":{},\"id\":\"1954\",\"type\":\"UnionRenderers\"},{\"attributes\":{\"data_source\":{\"id\":\"1832\",\"type\":\"ColumnDataSource\"},\"glyph\":{\"id\":\"1833\",\"type\":\"Line\"},\"hover_glyph\":null,\"muted_glyph\":null,\"nonselection_glyph\":{\"id\":\"1834\",\"type\":\"Line\"},\"selection_glyph\":null,\"view\":{\"id\":\"1836\",\"type\":\"CDSView\"}},\"id\":\"1835\",\"type\":\"GlyphRenderer\"},{\"attributes\":{\"data_source\":{\"id\":\"1845\",\"type\":\"ColumnDataSource\"},\"glyph\":{\"id\":\"1846\",\"type\":\"Line\"},\"hover_glyph\":null,\"muted_glyph\":null,\"nonselection_glyph\":{\"id\":\"1847\",\"type\":\"Line\"},\"selection_glyph\":null,\"view\":{\"id\":\"1849\",\"type\":\"CDSView\"}},\"id\":\"1848\",\"type\":\"GlyphRenderer\"},{\"attributes\":{},\"id\":\"1889\",\"type\":\"UnionRenderers\"},{\"attributes\":{\"callback\":null},\"id\":\"1799\",\"type\":\"DataRange1d\"},{\"attributes\":{\"line_alpha\":0.1,\"line_color\":\"#1f77b4\",\"line_width\":1.5,\"x\":{\"field\":\"x\"},\"y\":{\"field\":\"y\"}},\"id\":\"1834\",\"type\":\"Line\"},{\"attributes\":{\"source\":{\"id\":\"1845\",\"type\":\"ColumnDataSource\"}},\"id\":\"1849\",\"type\":\"CDSView\"},{\"attributes\":{},\"id\":\"1890\",\"type\":\"Selection\"},{\"attributes\":{\"source\":{\"id\":\"1832\",\"type\":\"ColumnDataSource\"}},\"id\":\"1836\",\"type\":\"CDSView\"},{\"attributes\":{\"callback\":null,\"data\":{\"x\":{\"__ndarray__\":\"AAAAAAAAAAD4RhSYdGqeP/hGFJh0aq4/OjUPctfPtj/4RhSYdGq+P1usDN+IAsM/OjUPctfPxj8ZvhEFJp3KP/hGFJh0as4/7GeLleEb0T9brAzfiALTP8rwjSgw6dQ/OjUPctfP1j+qeZC7frbYPxm+EQUmndo/iAKTTs2D3D/4RhSYdGreP7TFyvCNKOA/7GeLleEb4T8jCkw6NQ/iP1usDN+IAuM/k07Ng9z14z/K8I0oMOnkPwKTTs2D3OU/OjUPctfP5j9y188WK8PnP6p5kLt+tug/4RtRYNKp6T8ZvhEFJp3qP1Fg0ql5kOs/iAKTTs2D7D/ApFPzIHftP/hGFJh0au4/MOnUPMhd7z+0xcrwjSjwP9AWK8M3ovA/7GeLleEb8T8Huetni5XxPyMKTDo1D/I/P1usDN+I8j9brAzfiALzP3f9bLEyfPM/k07Ng9z18z+vny1Whm/0P8rwjSgw6fQ/5kHu+tli9T8Ck07Ng9z1Px7krp8tVvY/OjUPctfP9j9Whm9EgUn3P3LXzxYrw/c/jigw6dQ8+D+qeZC7frb4P8XK8I0oMPk/4RtRYNKp+T/9bLEyfCP6Pxm+EQUmnfo/NQ9y188W+z9RYNKpeZD7P22xMnwjCvw/iAKTTs2D/D+kU/Mgd/38P8CkU/Mgd/0/3PWzxcrw/T/4RhSYdGr+PxSYdGoe5P4/MOnUPMhd/z9MOjUPctf/P7TFyvCNKABAQu762WJlAEDQFivDN6IAQF4/W6wM3wBA7GeLleEbAUB5kLt+tlgBQAe562eLlQFAleEbUWDSAUAjCkw6NQ8CQLEyfCMKTAJAP1usDN+IAkDNg9z1s8UCQFusDN+IAgNA6dQ8yF0/A0B3/WyxMnwDQAUmnZoHuQNAk07Ng9z1A0Ahd/1ssTIEQK+fLVaGbwRAPchdP1usBEDK8I0oMOkEQFgZvhEFJgVA5kHu+tliBUB0ah7krp8FQAKTTs2D3AVAkLt+tlgZBkAe5K6fLVYGQKwM34gCkwZAOjUPctfPBkDIXT9brAwHQFaGb0SBSQdA5K6fLVaGB0By188WK8MHQA==\",\"dtype\":\"float64\",\"shape\":[101]},\"y\":{\"__ndarray__\":\"AAAAAAAAAAAAAAAAAAAAAAAAAAAAAAAAAAAAAAAAAAAAAAAAAAAAAAAAAAAAAAAAAAAAAAAAAAAAAAAAAAAAAAAAAAAAAAAAAAAAAAAAAAAAAAAAAAAAAAAAAAAAAAAAAAAAAAAAAAAAAAAAAAAAAAAAAAAAAAAAAAAAAAAAAAAAAAAAAAAAAAAAAAAAAAAAAAAAAAAAAAAAAAAAAAAAAAAAAAAAAAAAAAAAAAAAAAAAAAAAAAAAAAAAAAAAAAAAAAAAAAAAAAAAAAAAAAAAAAAAAAAAAAAAAAAAAAAAAAAAAAAAAAAAAAAAAAAAAAAAAAAAAAAAAAAAAAAAAAAAAAAAAAAAAAAAAAAAAAAAAAAAAAAAAAAAAAAAAAAAAAAAAAAAAAAAAAAAAAAAAAAAAAAAAAAAAAAAAAAAAAAAAAAAAAAAAAAAAAAAAAAAAAAAAAAAAAAAAAAAAAAAAAAAAAAAAAAAAAAAAAAAAAAAAAAAAAAAAAAAAAAAAAAAAAAAAAAAAAAAAAAAAAAAAAAAAAAAAAAAAAAAAAAAAAAAAAAAAAAAAAAAAAAAAAAAAAAAAAAAAAAAAAAAAAAAAAAAAAAAAAAAAAAAAAAAAAAAAAAAAAAAAAAAAAAAAAAAAAAAAAAAAAAAAAAAAAAAAAAAAAAAAAAAAAAAAAAAAAAAAAAAAAAAAAAAAAAAAAAAAAAAAAAAAAAAAAAAAAAAAAAAAAAAAAAAAAAAAAAAAAAAAAAAAAAAAAAAAAAAAAAAAAAAAAAAAAAAAAAAAAAAAAAAAAAAAAAAAAAAAAAAAAAAAAAAAAAAAAAAAAAAAAAAAAAAAAAAAAAAAAAAAAAAAAAAAAAAAAAAAAAAAAAAAAAAAAAAAAAAAAAAAAAAAAAAAAAAAAAAAAAAAAAAAAAAAAAAAAAAAAAAAAAAAAAAAAAAAAAAAAAAAAAAAAAAAAAAAAAAAAAAAAAAAAAAAAAAAAAAAAAAAAAAAAAAAAAAAAAAAAAAAAAAAAAAAAAAAAAAAAAAAAAAAAAAAAAAAAAAAAAAAAAAAAAAAAAAAAAAAAAAAAAAAAAAAAAAAA==\",\"dtype\":\"float64\",\"shape\":[101]}},\"selected\":{\"id\":\"1872\",\"type\":\"Selection\"},\"selection_policy\":{\"id\":\"1871\",\"type\":\"UnionRenderers\"}},\"id\":\"1845\",\"type\":\"ColumnDataSource\"},{\"attributes\":{},\"id\":\"1855\",\"type\":\"UnionRenderers\"},{\"attributes\":{\"label\":{\"value\":\"v (low amplitude), with viscosity\"},\"renderers\":[{\"id\":\"1878\",\"type\":\"GlyphRenderer\"}]},\"id\":\"1892\",\"type\":\"LegendItem\"},{\"attributes\":{},\"id\":\"1817\",\"type\":\"PanTool\"},{\"attributes\":{},\"id\":\"1856\",\"type\":\"Selection\"},{\"attributes\":{},\"id\":\"1818\",\"type\":\"WheelZoomTool\"},{\"attributes\":{\"callback\":null,\"data\":{\"x\":{\"__ndarray__\":\"AAAAAAAAAAD4RhSYdGqeP/hGFJh0aq4/OjUPctfPtj/4RhSYdGq+P1usDN+IAsM/OjUPctfPxj8ZvhEFJp3KP/hGFJh0as4/7GeLleEb0T9brAzfiALTP8rwjSgw6dQ/OjUPctfP1j+qeZC7frbYPxm+EQUmndo/iAKTTs2D3D/4RhSYdGreP7TFyvCNKOA/7GeLleEb4T8jCkw6NQ/iP1usDN+IAuM/k07Ng9z14z/K8I0oMOnkPwKTTs2D3OU/OjUPctfP5j9y188WK8PnP6p5kLt+tug/4RtRYNKp6T8ZvhEFJp3qP1Fg0ql5kOs/iAKTTs2D7D/ApFPzIHftP/hGFJh0au4/MOnUPMhd7z+0xcrwjSjwP9AWK8M3ovA/7GeLleEb8T8Huetni5XxPyMKTDo1D/I/P1usDN+I8j9brAzfiALzP3f9bLEyfPM/k07Ng9z18z+vny1Whm/0P8rwjSgw6fQ/5kHu+tli9T8Ck07Ng9z1Px7krp8tVvY/OjUPctfP9j9Whm9EgUn3P3LXzxYrw/c/jigw6dQ8+D+qeZC7frb4P8XK8I0oMPk/4RtRYNKp+T/9bLEyfCP6Pxm+EQUmnfo/NQ9y188W+z9RYNKpeZD7P22xMnwjCvw/iAKTTs2D/D+kU/Mgd/38P8CkU/Mgd/0/3PWzxcrw/T/4RhSYdGr+PxSYdGoe5P4/MOnUPMhd/z9MOjUPctf/P7TFyvCNKABAQu762WJlAEDQFivDN6IAQF4/W6wM3wBA7GeLleEbAUB5kLt+tlgBQAe562eLlQFAleEbUWDSAUAjCkw6NQ8CQLEyfCMKTAJAP1usDN+IAkDNg9z1s8UCQFusDN+IAgNA6dQ8yF0/A0B3/WyxMnwDQAUmnZoHuQNAk07Ng9z1A0Ahd/1ssTIEQK+fLVaGbwRAPchdP1usBEDK8I0oMOkEQFgZvhEFJgVA5kHu+tliBUB0ah7krp8FQAKTTs2D3AVAkLt+tlgZBkAe5K6fLVYGQKwM34gCkwZAOjUPctfPBkDIXT9brAwHQFaGb0SBSQdA5K6fLVaGB0By188WK8MHQA==\",\"dtype\":\"float64\",\"shape\":[101]},\"y\":{\"__ndarray__\":\"AAAAAAAAAAAAAAAAAAAAAAAAAAAAAAAAAAAAAAAAAAAAAAAAAAAAAAAAAAAAAAAAAAAAAAAAAAAAAAAAAAAAAAAAAAAAAAAAAAAAAAAAAAAAAAAAAAAAAAAAAAAAAAAAAAAAAAAAAAAAAAAAAAAAAAAAAAAAAAAAAAAAAAAAAAAAAAAAAAAAAAAAAAAAAAAAAAAAAAAAAAAAAAAAAAAAAAAAAAAAAAAAAAAAAAAAAAAAAAAAAAAAAAAAAAAAAAAAAAAAAAAAAAAAAAAAAAAAAAAAAAAAAAAAAAAAAAAAAAAAAAAAAAAAAAAAAAAAAAAAAAAAAAAAAAAAAAAAAAAAAAAAAAAAAAAAAAAAAAAAAAAAAAAAAAAAAAAAAAAAAAAAAAAAAAAAAAAAAAAAAAAAAAAAAAAAAAAAAAAAAAAAAAAAAAAAAAAAAAAAAAAAAAAAAAAAAAAAAAAAAAAAAAAAAAAAAAAAAAAAAAAAAAAAAAAAAAAAAAAAAAAAAAAAAAAAAAAAAAAAAAAAAAAAAAAAAAAAAAAAAAAAAAAAAAAAAAAAAAAAAAAAAAAAAAAAAAAAAAAAAAAAAAAAAAAAAAAAAAAAAAAAAAAAAAAAAAAAAAAAAAAAAAAAAAAAAAAAAAAAAAAAAAAAAAAAAAAAAAAAAAAAAAAAAAAAAAAAAAAAAAAAAAAAAAAAAAAAAAAAAAAAAAAAAAAAAAAAAAAAAAAAAAAAAAAAAAAAAAAAAAAAAAAAAAAAAAAAAAAAAAAAAAAAAAAAAAAAAAAAAAAAAAAAAAAAAAAAAAAAAAAAAAAAAAAAAAAAAAAAAAAAAAAAAAAAAAAAAAAAAAAAAAAAAAAAAAAAAAAAAAAAAAAAAAAAAAAAAAAAAAAAAAAAAAAAAAAAAAAAAAAAAAAAAAAAAAAAAAAAAAAAAAAAAAAAAAAAAAAAAAAAAAAAAAAAAAAAAAAAAAAAAAAAAAAAAAAAAAAAAAAAAAAAAAAAAAAAAAAAAAAAAAAAAAAAAAAAAAAAAAAAAAAAAAAAAAAAAAAAAAAAAAAAAAAAAAAAAAAAAAAAAAAAAAAAAAAAAA==\",\"dtype\":\"float64\",\"shape\":[101]}},\"selected\":{\"id\":\"1856\",\"type\":\"Selection\"},\"selection_policy\":{\"id\":\"1855\",\"type\":\"UnionRenderers\"}},\"id\":\"1832\",\"type\":\"ColumnDataSource\"},{\"attributes\":{\"label\":{\"value\":\"v (low amplitude), no viscosity\"},\"renderers\":[{\"id\":\"1848\",\"type\":\"GlyphRenderer\"}]},\"id\":\"1858\",\"type\":\"LegendItem\"},{\"attributes\":{\"overlay\":{\"id\":\"1825\",\"type\":\"BoxAnnotation\"}},\"id\":\"1819\",\"type\":\"BoxZoomTool\"}],\"root_ids\":[\"1797\"]},\"title\":\"Bokeh Application\",\"version\":\"1.0.2\"}};\n",
       "  var render_items = [{\"docid\":\"5833e2fa-4670-4f00-8669-dcde775677d6\",\"notebook_comms_target\":\"1957\",\"roots\":{\"1797\":\"48a72350-dd0c-4e81-896a-8e9fb72f7a41\"}}];\n",
       "  root.Bokeh.embed.embed_items_notebook(docs_json, render_items);\n",
       "\n",
       "  }\n",
       "  if (root.Bokeh !== undefined) {\n",
       "    embed_document(root);\n",
       "  } else {\n",
       "    var attempts = 0;\n",
       "    var timer = setInterval(function(root) {\n",
       "      if (root.Bokeh !== undefined) {\n",
       "        embed_document(root);\n",
       "        clearInterval(timer);\n",
       "      }\n",
       "      attempts++;\n",
       "      if (attempts > 100) {\n",
       "        console.log(\"Bokeh: ERROR: Unable to run BokehJS code because BokehJS library is missing\");\n",
       "        clearInterval(timer);\n",
       "      }\n",
       "    }, 10, root)\n",
       "  }\n",
       "})(window);"
      ],
      "application/vnd.bokehjs_exec.v0+json": ""
     },
     "metadata": {
      "application/vnd.bokehjs_exec.v0+json": {
       "id": "1797"
      }
     },
     "output_type": "display_data"
    },
    {
     "data": {
      "application/vnd.jupyter.widget-view+json": {
       "model_id": "e26a4f589d5b4ee59e07e584f301258e",
       "version_major": 2,
       "version_minor": 0
      },
      "text/plain": [
       "interactive(children=(Dropdown(description='type_wave', options=('square', 'peak', 'sine', 'exp'), value='squa…"
      ]
     },
     "metadata": {},
     "output_type": "display_data"
    }
   ],
   "source": [
    "from Burger import convection_visc\n",
    "#Normal : (type_wave='square', nt=301, nx=101, tmax=0.8, xmax=2.0, c=0.5, amp=5.0)\n",
    "u, x=convection_visc(type_wave='square', nt=401, nx=101, tmax=0.8, xmax=3.0, c=0.5, amp=5.0, nu=0.1)\n",
    "v,x=convection_visc(type_wave='square', nt=401, nx=101, tmax=0.8, xmax=3.0, c=0.5, amp=2.0, nu=0.1)\n",
    "p = figure(title=\"\", plot_height=500, plot_width=1000, y_range=(-2,7),\n",
    "           background_fill_color='#ffffff')\n",
    "y=np.zeros(len(u.square))\n",
    "r1 = p.line(x, y, color=\"#88CC68\", legend='u (high amplitude), no viscosity', line_width=1.5, alpha=0.8)\n",
    "r2 = p.line(x, y, color=\"#6888cc\", legend='v (low amplitude), no viscosity', line_width=1.5, alpha=0.8)\n",
    "r3 = p.line(x, y, color=\"#8a1bc9\", legend='u (low amplitude), with viscosity', line_width=1.5, alpha=0.8)\n",
    "r4 = p.line(x, y, color=\"#c96a1b\", legend='v (low amplitude), with viscosity', line_width=1.5, alpha=0.8)\n",
    "def update(type_wave='square', t=0):\n",
    "    if   type_wave == \"square\":\n",
    "        y1 = u.square[:, t]\n",
    "        y2 = v.square[:, t]\n",
    "        y3 = u.square_visc[:, t]\n",
    "        y4 = v.square_visc[:, t]\n",
    "    elif type_wave == \"peak\":\n",
    "        y1= u.peak[:,t]\n",
    "        y2= v.peak[:,t]\n",
    "        y3 = u.peak_visc[:, t]\n",
    "        y4 = v.peak_visc[:, t]\n",
    "    elif type_wave == \"sine\":\n",
    "        y1= u.sine[:,t]\n",
    "        y2= v.sine[:,t]\n",
    "        y3 = u.sine_visc[:, t]\n",
    "        y4 = v.sine_visc[:, t]\n",
    "    elif type_wave == \"exp\":\n",
    "        y1= u.exp[:,t]\n",
    "        y2= v.exp[:,t]\n",
    "        y3 = u.exp_visc[:, t]\n",
    "        y4 = v.exp_visc[:, t]\n",
    "    r1.data_source.data['y'] = y1\n",
    "    r2.data_source.data['y'] = y2\n",
    "    r3.data_source.data['y'] = y3\n",
    "    r4.data_source.data['y'] = y4\n",
    "    push_notebook()\n",
    "\n",
    "show(p, notebook_handle=True)\n",
    "\n",
    "interact(update, type_wave=['square', 'peak', 'sine', 'exp'], t=(0,249));\n"
   ]
  }
 ],
 "metadata": {
  "celltoolbar": "Diaporama",
  "kernelspec": {
   "display_name": "Python 3",
   "language": "python",
   "name": "python3"
  },
  "language_info": {
   "codemirror_mode": {
    "name": "ipython",
    "version": 3
   },
   "file_extension": ".py",
   "mimetype": "text/x-python",
   "name": "python",
   "nbconvert_exporter": "python",
   "pygments_lexer": "ipython3",
   "version": "3.7.1"
  }
 },
 "nbformat": 4,
 "nbformat_minor": 2
}
